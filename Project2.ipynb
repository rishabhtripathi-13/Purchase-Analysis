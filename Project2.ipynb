{
  "nbformat": 4,
  "nbformat_minor": 0,
  "metadata": {
    "colab": {
      "provenance": []
    },
    "kernelspec": {
      "name": "python3",
      "display_name": "Python 3"
    },
    "language_info": {
      "name": "python"
    }
  },
  "cells": [
    {
      "cell_type": "markdown",
      "source": [
        "#Purchase Analysis and Some useful Insights."
      ],
      "metadata": {
        "id": "-8QHa1dGKn5-"
      }
    },
    {
      "cell_type": "markdown",
      "source": [
        "Even though sales data was not available I tried to get as much information from purchase data as possible. Since the purchases are done on weekly basis is gives an idea about the sales.\n",
        "\n",
        "\n",
        "\n",
        "This project aims at finding some important information and insight in my father's buisiness like -\n",
        "\n",
        "\n",
        "1.   Which are our best products?\n",
        "2.   Which are the least performing products?\n",
        "\n",
        "1.   Which are the best month for the business?\n",
        "2.   What is the price distribution of products?\n",
        "\n",
        "1.   What are the numbers wrt Makers?\n",
        "\n",
        "\n",
        "\n",
        "\n",
        "\n",
        "\n"
      ],
      "metadata": {
        "id": "nB8gi1d6K2WU"
      }
    },
    {
      "cell_type": "markdown",
      "source": [
        "##IMPORTS AND SETUP"
      ],
      "metadata": {
        "id": "2wr-vlNqf_kM"
      }
    },
    {
      "cell_type": "markdown",
      "source": [
        "Import Data Analysis Library"
      ],
      "metadata": {
        "id": "mrjYWhcvYBQ5"
      }
    },
    {
      "cell_type": "code",
      "execution_count": null,
      "metadata": {
        "id": "S6Pq2KecXQ3r"
      },
      "outputs": [],
      "source": [
        "import numpy as np\n",
        "import pandas as pd"
      ]
    },
    {
      "cell_type": "markdown",
      "source": [
        "Import Data Visulisation Library"
      ],
      "metadata": {
        "id": "njO2QyPuXz3d"
      }
    },
    {
      "cell_type": "code",
      "source": [
        "import matplotlib.pyplot as plt\n",
        "import seaborn as sns\n",
        "%matplotlib inline"
      ],
      "metadata": {
        "id": "MEqKz5UhXdcg"
      },
      "execution_count": null,
      "outputs": []
    },
    {
      "cell_type": "markdown",
      "source": [
        "##Getting the Data"
      ],
      "metadata": {
        "id": "bx6in8-ggQGc"
      }
    },
    {
      "cell_type": "markdown",
      "source": [
        "Read in the csv file as a dataframe called df"
      ],
      "metadata": {
        "id": "L1P2oOs8YpoF"
      }
    },
    {
      "cell_type": "code",
      "source": [
        "from google.colab import drive\n",
        "\n",
        "drive.mount('/content/drive')"
      ],
      "metadata": {
        "colab": {
          "base_uri": "https://localhost:8080/"
        },
        "id": "1ZKYbbN-X-R4",
        "outputId": "601b2f63-89e6-4260-ace5-12c6ec4ee3d2"
      },
      "execution_count": null,
      "outputs": [
        {
          "output_type": "stream",
          "name": "stdout",
          "text": [
            "Mounted at /content/drive\n"
          ]
        }
      ]
    },
    {
      "cell_type": "code",
      "source": [
        "df = pd.read_csv('/content/drive/My Drive/tripathima.csv')"
      ],
      "metadata": {
        "id": "h0WpMcYEbpyt"
      },
      "execution_count": null,
      "outputs": []
    },
    {
      "cell_type": "markdown",
      "source": [
        "Check the head of the dataframe"
      ],
      "metadata": {
        "id": "uwAdSyY7fOKy"
      }
    },
    {
      "cell_type": "code",
      "source": [
        "df.head()"
      ],
      "metadata": {
        "colab": {
          "base_uri": "https://localhost:8080/",
          "height": 206
        },
        "id": "bWmIL58Fe2jM",
        "outputId": "1c88f769-9bb2-4dd1-a7a7-ee96787f5151"
      },
      "execution_count": null,
      "outputs": [
        {
          "output_type": "execute_result",
          "data": {
            "text/plain": [
              "         Item Description Bill No.        Date       Packing  Batch No.  \\\n",
              "0  ACAROT CAPS. (10X1X10)   AP1469  2021-08-20  10X1X10C Box     AK6805   \n",
              "1  ACAROT CAPS. (10X1X10)   AP2122  2021-10-19  10X1X10C Box     AK7925   \n",
              "2       ACAROT SYP 200 ML   AP1469  2021-08-20     1X200 BOT      GA490   \n",
              "3       ACAROT SYP 200 ML   AP3523  2022-03-14     1X200 BOT      GA847   \n",
              "4         ACEFO DRY SYRUP   AP0425  2021-05-10       1X30 ML  GDB200110   \n",
              "\n",
              "     Qty   Rate   Amount Maker  \n",
              "0   10.0  115.0   1150.0  ACME  \n",
              "1   10.0  115.0   1150.0  ACME  \n",
              "2  360.0   28.0  10080.0  ACME  \n",
              "3  180.0   28.0   5040.0  ACME  \n",
              "4  300.0   21.6   6480.0  ACME  "
            ],
            "text/html": [
              "\n",
              "\n",
              "  <div id=\"df-821fe030-123f-49fd-8a90-fcd481d8d9fc\">\n",
              "    <div class=\"colab-df-container\">\n",
              "      <div>\n",
              "<style scoped>\n",
              "    .dataframe tbody tr th:only-of-type {\n",
              "        vertical-align: middle;\n",
              "    }\n",
              "\n",
              "    .dataframe tbody tr th {\n",
              "        vertical-align: top;\n",
              "    }\n",
              "\n",
              "    .dataframe thead th {\n",
              "        text-align: right;\n",
              "    }\n",
              "</style>\n",
              "<table border=\"1\" class=\"dataframe\">\n",
              "  <thead>\n",
              "    <tr style=\"text-align: right;\">\n",
              "      <th></th>\n",
              "      <th>Item Description</th>\n",
              "      <th>Bill No.</th>\n",
              "      <th>Date</th>\n",
              "      <th>Packing</th>\n",
              "      <th>Batch No.</th>\n",
              "      <th>Qty</th>\n",
              "      <th>Rate</th>\n",
              "      <th>Amount</th>\n",
              "      <th>Maker</th>\n",
              "    </tr>\n",
              "  </thead>\n",
              "  <tbody>\n",
              "    <tr>\n",
              "      <th>0</th>\n",
              "      <td>ACAROT CAPS. (10X1X10)</td>\n",
              "      <td>AP1469</td>\n",
              "      <td>2021-08-20</td>\n",
              "      <td>10X1X10C Box</td>\n",
              "      <td>AK6805</td>\n",
              "      <td>10.0</td>\n",
              "      <td>115.0</td>\n",
              "      <td>1150.0</td>\n",
              "      <td>ACME</td>\n",
              "    </tr>\n",
              "    <tr>\n",
              "      <th>1</th>\n",
              "      <td>ACAROT CAPS. (10X1X10)</td>\n",
              "      <td>AP2122</td>\n",
              "      <td>2021-10-19</td>\n",
              "      <td>10X1X10C Box</td>\n",
              "      <td>AK7925</td>\n",
              "      <td>10.0</td>\n",
              "      <td>115.0</td>\n",
              "      <td>1150.0</td>\n",
              "      <td>ACME</td>\n",
              "    </tr>\n",
              "    <tr>\n",
              "      <th>2</th>\n",
              "      <td>ACAROT SYP 200 ML</td>\n",
              "      <td>AP1469</td>\n",
              "      <td>2021-08-20</td>\n",
              "      <td>1X200 BOT</td>\n",
              "      <td>GA490</td>\n",
              "      <td>360.0</td>\n",
              "      <td>28.0</td>\n",
              "      <td>10080.0</td>\n",
              "      <td>ACME</td>\n",
              "    </tr>\n",
              "    <tr>\n",
              "      <th>3</th>\n",
              "      <td>ACAROT SYP 200 ML</td>\n",
              "      <td>AP3523</td>\n",
              "      <td>2022-03-14</td>\n",
              "      <td>1X200 BOT</td>\n",
              "      <td>GA847</td>\n",
              "      <td>180.0</td>\n",
              "      <td>28.0</td>\n",
              "      <td>5040.0</td>\n",
              "      <td>ACME</td>\n",
              "    </tr>\n",
              "    <tr>\n",
              "      <th>4</th>\n",
              "      <td>ACEFO DRY SYRUP</td>\n",
              "      <td>AP0425</td>\n",
              "      <td>2021-05-10</td>\n",
              "      <td>1X30 ML</td>\n",
              "      <td>GDB200110</td>\n",
              "      <td>300.0</td>\n",
              "      <td>21.6</td>\n",
              "      <td>6480.0</td>\n",
              "      <td>ACME</td>\n",
              "    </tr>\n",
              "  </tbody>\n",
              "</table>\n",
              "</div>\n",
              "      <button class=\"colab-df-convert\" onclick=\"convertToInteractive('df-821fe030-123f-49fd-8a90-fcd481d8d9fc')\"\n",
              "              title=\"Convert this dataframe to an interactive table.\"\n",
              "              style=\"display:none;\">\n",
              "\n",
              "  <svg xmlns=\"http://www.w3.org/2000/svg\" height=\"24px\"viewBox=\"0 0 24 24\"\n",
              "       width=\"24px\">\n",
              "    <path d=\"M0 0h24v24H0V0z\" fill=\"none\"/>\n",
              "    <path d=\"M18.56 5.44l.94 2.06.94-2.06 2.06-.94-2.06-.94-.94-2.06-.94 2.06-2.06.94zm-11 1L8.5 8.5l.94-2.06 2.06-.94-2.06-.94L8.5 2.5l-.94 2.06-2.06.94zm10 10l.94 2.06.94-2.06 2.06-.94-2.06-.94-.94-2.06-.94 2.06-2.06.94z\"/><path d=\"M17.41 7.96l-1.37-1.37c-.4-.4-.92-.59-1.43-.59-.52 0-1.04.2-1.43.59L10.3 9.45l-7.72 7.72c-.78.78-.78 2.05 0 2.83L4 21.41c.39.39.9.59 1.41.59.51 0 1.02-.2 1.41-.59l7.78-7.78 2.81-2.81c.8-.78.8-2.07 0-2.86zM5.41 20L4 18.59l7.72-7.72 1.47 1.35L5.41 20z\"/>\n",
              "  </svg>\n",
              "      </button>\n",
              "\n",
              "\n",
              "\n",
              "    <div id=\"df-df45f808-436c-467f-b271-6abe9756c5c8\">\n",
              "      <button class=\"colab-df-quickchart\" onclick=\"quickchart('df-df45f808-436c-467f-b271-6abe9756c5c8')\"\n",
              "              title=\"Suggest charts.\"\n",
              "              style=\"display:none;\">\n",
              "\n",
              "<svg xmlns=\"http://www.w3.org/2000/svg\" height=\"24px\"viewBox=\"0 0 24 24\"\n",
              "     width=\"24px\">\n",
              "    <g>\n",
              "        <path d=\"M19 3H5c-1.1 0-2 .9-2 2v14c0 1.1.9 2 2 2h14c1.1 0 2-.9 2-2V5c0-1.1-.9-2-2-2zM9 17H7v-7h2v7zm4 0h-2V7h2v10zm4 0h-2v-4h2v4z\"/>\n",
              "    </g>\n",
              "</svg>\n",
              "      </button>\n",
              "    </div>\n",
              "\n",
              "<style>\n",
              "  .colab-df-quickchart {\n",
              "    background-color: #E8F0FE;\n",
              "    border: none;\n",
              "    border-radius: 50%;\n",
              "    cursor: pointer;\n",
              "    display: none;\n",
              "    fill: #1967D2;\n",
              "    height: 32px;\n",
              "    padding: 0 0 0 0;\n",
              "    width: 32px;\n",
              "  }\n",
              "\n",
              "  .colab-df-quickchart:hover {\n",
              "    background-color: #E2EBFA;\n",
              "    box-shadow: 0px 1px 2px rgba(60, 64, 67, 0.3), 0px 1px 3px 1px rgba(60, 64, 67, 0.15);\n",
              "    fill: #174EA6;\n",
              "  }\n",
              "\n",
              "  [theme=dark] .colab-df-quickchart {\n",
              "    background-color: #3B4455;\n",
              "    fill: #D2E3FC;\n",
              "  }\n",
              "\n",
              "  [theme=dark] .colab-df-quickchart:hover {\n",
              "    background-color: #434B5C;\n",
              "    box-shadow: 0px 1px 3px 1px rgba(0, 0, 0, 0.15);\n",
              "    filter: drop-shadow(0px 1px 2px rgba(0, 0, 0, 0.3));\n",
              "    fill: #FFFFFF;\n",
              "  }\n",
              "</style>\n",
              "\n",
              "    <script>\n",
              "      async function quickchart(key) {\n",
              "        const containerElement = document.querySelector('#' + key);\n",
              "        const charts = await google.colab.kernel.invokeFunction(\n",
              "            'suggestCharts', [key], {});\n",
              "      }\n",
              "    </script>\n",
              "\n",
              "      <script>\n",
              "\n",
              "function displayQuickchartButton(domScope) {\n",
              "  let quickchartButtonEl =\n",
              "    domScope.querySelector('#df-df45f808-436c-467f-b271-6abe9756c5c8 button.colab-df-quickchart');\n",
              "  quickchartButtonEl.style.display =\n",
              "    google.colab.kernel.accessAllowed ? 'block' : 'none';\n",
              "}\n",
              "\n",
              "        displayQuickchartButton(document);\n",
              "      </script>\n",
              "      <style>\n",
              "    .colab-df-container {\n",
              "      display:flex;\n",
              "      flex-wrap:wrap;\n",
              "      gap: 12px;\n",
              "    }\n",
              "\n",
              "    .colab-df-convert {\n",
              "      background-color: #E8F0FE;\n",
              "      border: none;\n",
              "      border-radius: 50%;\n",
              "      cursor: pointer;\n",
              "      display: none;\n",
              "      fill: #1967D2;\n",
              "      height: 32px;\n",
              "      padding: 0 0 0 0;\n",
              "      width: 32px;\n",
              "    }\n",
              "\n",
              "    .colab-df-convert:hover {\n",
              "      background-color: #E2EBFA;\n",
              "      box-shadow: 0px 1px 2px rgba(60, 64, 67, 0.3), 0px 1px 3px 1px rgba(60, 64, 67, 0.15);\n",
              "      fill: #174EA6;\n",
              "    }\n",
              "\n",
              "    [theme=dark] .colab-df-convert {\n",
              "      background-color: #3B4455;\n",
              "      fill: #D2E3FC;\n",
              "    }\n",
              "\n",
              "    [theme=dark] .colab-df-convert:hover {\n",
              "      background-color: #434B5C;\n",
              "      box-shadow: 0px 1px 3px 1px rgba(0, 0, 0, 0.15);\n",
              "      filter: drop-shadow(0px 1px 2px rgba(0, 0, 0, 0.3));\n",
              "      fill: #FFFFFF;\n",
              "    }\n",
              "  </style>\n",
              "\n",
              "      <script>\n",
              "        const buttonEl =\n",
              "          document.querySelector('#df-821fe030-123f-49fd-8a90-fcd481d8d9fc button.colab-df-convert');\n",
              "        buttonEl.style.display =\n",
              "          google.colab.kernel.accessAllowed ? 'block' : 'none';\n",
              "\n",
              "        async function convertToInteractive(key) {\n",
              "          const element = document.querySelector('#df-821fe030-123f-49fd-8a90-fcd481d8d9fc');\n",
              "          const dataTable =\n",
              "            await google.colab.kernel.invokeFunction('convertToInteractive',\n",
              "                                                     [key], {});\n",
              "          if (!dataTable) return;\n",
              "\n",
              "          const docLinkHtml = 'Like what you see? Visit the ' +\n",
              "            '<a target=\"_blank\" href=https://colab.research.google.com/notebooks/data_table.ipynb>data table notebook</a>'\n",
              "            + ' to learn more about interactive tables.';\n",
              "          element.innerHTML = '';\n",
              "          dataTable['output_type'] = 'display_data';\n",
              "          await google.colab.output.renderOutput(dataTable, element);\n",
              "          const docLink = document.createElement('div');\n",
              "          docLink.innerHTML = docLinkHtml;\n",
              "          element.appendChild(docLink);\n",
              "        }\n",
              "      </script>\n",
              "    </div>\n",
              "  </div>\n"
            ]
          },
          "metadata": {},
          "execution_count": 5
        }
      ]
    },
    {
      "cell_type": "code",
      "source": [
        "df['Item Description'] = df['Item Description'].str.replace('\\n', '')"
      ],
      "metadata": {
        "id": "p-Xk2gsvv0SA"
      },
      "execution_count": null,
      "outputs": []
    },
    {
      "cell_type": "markdown",
      "source": [
        "Check the info() of df"
      ],
      "metadata": {
        "id": "htXjWhWxfsTb"
      }
    },
    {
      "cell_type": "code",
      "source": [
        "df.info()"
      ],
      "metadata": {
        "colab": {
          "base_uri": "https://localhost:8080/"
        },
        "id": "DmKX5BRefoOj",
        "outputId": "878f330e-7343-42d2-e1bc-85fccb1afa79"
      },
      "execution_count": null,
      "outputs": [
        {
          "output_type": "stream",
          "name": "stdout",
          "text": [
            "<class 'pandas.core.frame.DataFrame'>\n",
            "RangeIndex: 380 entries, 0 to 379\n",
            "Data columns (total 11 columns):\n",
            " #   Column            Non-Null Count  Dtype         \n",
            "---  ------            --------------  -----         \n",
            " 0   Item Description  344 non-null    object        \n",
            " 1   Bill No.          344 non-null    object        \n",
            " 2   Date              344 non-null    datetime64[ns]\n",
            " 3   Packing           344 non-null    object        \n",
            " 4   Batch No.         344 non-null    object        \n",
            " 5   Qty               344 non-null    float64       \n",
            " 6   Rate              344 non-null    float64       \n",
            " 7   Amount            344 non-null    float64       \n",
            " 8   Maker             344 non-null    object        \n",
            " 9   Month             344 non-null    object        \n",
            " 10  Year              344 non-null    float64       \n",
            "dtypes: datetime64[ns](1), float64(4), object(6)\n",
            "memory usage: 32.8+ KB\n"
          ]
        }
      ]
    },
    {
      "cell_type": "markdown",
      "source": [
        "##Some Basic Insights"
      ],
      "metadata": {
        "id": "WY0UwKUPZUuy"
      }
    },
    {
      "cell_type": "markdown",
      "source": [
        "Which is the most purchased product? (Quantity Wise)"
      ],
      "metadata": {
        "id": "T853Z3vAYtKA"
      }
    },
    {
      "cell_type": "code",
      "source": [
        "products = df.groupby(['Item Description','Maker']).sum().sort_values('Qty' , ascending = False)\n",
        "products.head(10)"
      ],
      "metadata": {
        "colab": {
          "base_uri": "https://localhost:8080/",
          "height": 449
        },
        "id": "9KK4RRDmhG3h",
        "outputId": "f1151748-f16b-4873-c1c1-6e741cef161b"
      },
      "execution_count": null,
      "outputs": [
        {
          "output_type": "stream",
          "name": "stderr",
          "text": [
            "<ipython-input-24-c35a17333cb0>:1: FutureWarning: The default value of numeric_only in DataFrameGroupBy.sum is deprecated. In a future version, numeric_only will default to False. Either specify numeric_only or select only columns which should be valid for the function.\n",
            "  products = df.groupby(['Item Description','Maker']).sum().sort_values('Qty' , ascending = False)\n"
          ]
        },
        {
          "output_type": "execute_result",
          "data": {
            "text/plain": [
              "                                    Qty    Rate    Amount     Year\n",
              "Item Description        Maker                                     \n",
              "BROPECT EXPECTORANT     Aquila   3780.0    89.0   55620.0  12131.0\n",
              "M-COLA INJECTION        Aquila   2890.0    30.7   18524.0  10108.0\n",
              "ACAROT SYP 200 ML       ACME     2340.0   168.0   65520.0  12132.0\n",
              "AQRAB-D CAPSULE         Aquila   1955.0  1380.0  269790.0  20216.0\n",
              "ACEFO DRY SYRUP         ACME     1800.0   194.4   38880.0  18196.0\n",
              "AQZYME SYRUP            Aquila   1728.0   150.0   43200.0  12131.0\n",
              "AQDOM-O CAPSULE         Aquila   1724.0   954.0  135020.0  24262.0\n",
              "AGESTRON - 500 INJ      Genesis  1470.0   405.0   66150.0  18195.0\n",
              "TRISUL 1.5 GM INJECTION Aquila   1250.0   180.0   37500.0  12131.0\n",
              "COUGHEX-LT SYRUP        ACME     1200.0   201.0   40200.0  12129.0"
            ],
            "text/html": [
              "\n",
              "\n",
              "  <div id=\"df-9a5df7de-979f-48b2-8868-8dd6edd2e94d\">\n",
              "    <div class=\"colab-df-container\">\n",
              "      <div>\n",
              "<style scoped>\n",
              "    .dataframe tbody tr th:only-of-type {\n",
              "        vertical-align: middle;\n",
              "    }\n",
              "\n",
              "    .dataframe tbody tr th {\n",
              "        vertical-align: top;\n",
              "    }\n",
              "\n",
              "    .dataframe thead th {\n",
              "        text-align: right;\n",
              "    }\n",
              "</style>\n",
              "<table border=\"1\" class=\"dataframe\">\n",
              "  <thead>\n",
              "    <tr style=\"text-align: right;\">\n",
              "      <th></th>\n",
              "      <th></th>\n",
              "      <th>Qty</th>\n",
              "      <th>Rate</th>\n",
              "      <th>Amount</th>\n",
              "      <th>Year</th>\n",
              "    </tr>\n",
              "    <tr>\n",
              "      <th>Item Description</th>\n",
              "      <th>Maker</th>\n",
              "      <th></th>\n",
              "      <th></th>\n",
              "      <th></th>\n",
              "      <th></th>\n",
              "    </tr>\n",
              "  </thead>\n",
              "  <tbody>\n",
              "    <tr>\n",
              "      <th>BROPECT EXPECTORANT</th>\n",
              "      <th>Aquila</th>\n",
              "      <td>3780.0</td>\n",
              "      <td>89.0</td>\n",
              "      <td>55620.0</td>\n",
              "      <td>12131.0</td>\n",
              "    </tr>\n",
              "    <tr>\n",
              "      <th>M-COLA INJECTION</th>\n",
              "      <th>Aquila</th>\n",
              "      <td>2890.0</td>\n",
              "      <td>30.7</td>\n",
              "      <td>18524.0</td>\n",
              "      <td>10108.0</td>\n",
              "    </tr>\n",
              "    <tr>\n",
              "      <th>ACAROT SYP 200 ML</th>\n",
              "      <th>ACME</th>\n",
              "      <td>2340.0</td>\n",
              "      <td>168.0</td>\n",
              "      <td>65520.0</td>\n",
              "      <td>12132.0</td>\n",
              "    </tr>\n",
              "    <tr>\n",
              "      <th>AQRAB-D CAPSULE</th>\n",
              "      <th>Aquila</th>\n",
              "      <td>1955.0</td>\n",
              "      <td>1380.0</td>\n",
              "      <td>269790.0</td>\n",
              "      <td>20216.0</td>\n",
              "    </tr>\n",
              "    <tr>\n",
              "      <th>ACEFO DRY SYRUP</th>\n",
              "      <th>ACME</th>\n",
              "      <td>1800.0</td>\n",
              "      <td>194.4</td>\n",
              "      <td>38880.0</td>\n",
              "      <td>18196.0</td>\n",
              "    </tr>\n",
              "    <tr>\n",
              "      <th>AQZYME SYRUP</th>\n",
              "      <th>Aquila</th>\n",
              "      <td>1728.0</td>\n",
              "      <td>150.0</td>\n",
              "      <td>43200.0</td>\n",
              "      <td>12131.0</td>\n",
              "    </tr>\n",
              "    <tr>\n",
              "      <th>AQDOM-O CAPSULE</th>\n",
              "      <th>Aquila</th>\n",
              "      <td>1724.0</td>\n",
              "      <td>954.0</td>\n",
              "      <td>135020.0</td>\n",
              "      <td>24262.0</td>\n",
              "    </tr>\n",
              "    <tr>\n",
              "      <th>AGESTRON - 500 INJ</th>\n",
              "      <th>Genesis</th>\n",
              "      <td>1470.0</td>\n",
              "      <td>405.0</td>\n",
              "      <td>66150.0</td>\n",
              "      <td>18195.0</td>\n",
              "    </tr>\n",
              "    <tr>\n",
              "      <th>TRISUL 1.5 GM INJECTION</th>\n",
              "      <th>Aquila</th>\n",
              "      <td>1250.0</td>\n",
              "      <td>180.0</td>\n",
              "      <td>37500.0</td>\n",
              "      <td>12131.0</td>\n",
              "    </tr>\n",
              "    <tr>\n",
              "      <th>COUGHEX-LT SYRUP</th>\n",
              "      <th>ACME</th>\n",
              "      <td>1200.0</td>\n",
              "      <td>201.0</td>\n",
              "      <td>40200.0</td>\n",
              "      <td>12129.0</td>\n",
              "    </tr>\n",
              "  </tbody>\n",
              "</table>\n",
              "</div>\n",
              "      <button class=\"colab-df-convert\" onclick=\"convertToInteractive('df-9a5df7de-979f-48b2-8868-8dd6edd2e94d')\"\n",
              "              title=\"Convert this dataframe to an interactive table.\"\n",
              "              style=\"display:none;\">\n",
              "\n",
              "  <svg xmlns=\"http://www.w3.org/2000/svg\" height=\"24px\"viewBox=\"0 0 24 24\"\n",
              "       width=\"24px\">\n",
              "    <path d=\"M0 0h24v24H0V0z\" fill=\"none\"/>\n",
              "    <path d=\"M18.56 5.44l.94 2.06.94-2.06 2.06-.94-2.06-.94-.94-2.06-.94 2.06-2.06.94zm-11 1L8.5 8.5l.94-2.06 2.06-.94-2.06-.94L8.5 2.5l-.94 2.06-2.06.94zm10 10l.94 2.06.94-2.06 2.06-.94-2.06-.94-.94-2.06-.94 2.06-2.06.94z\"/><path d=\"M17.41 7.96l-1.37-1.37c-.4-.4-.92-.59-1.43-.59-.52 0-1.04.2-1.43.59L10.3 9.45l-7.72 7.72c-.78.78-.78 2.05 0 2.83L4 21.41c.39.39.9.59 1.41.59.51 0 1.02-.2 1.41-.59l7.78-7.78 2.81-2.81c.8-.78.8-2.07 0-2.86zM5.41 20L4 18.59l7.72-7.72 1.47 1.35L5.41 20z\"/>\n",
              "  </svg>\n",
              "      </button>\n",
              "\n",
              "\n",
              "\n",
              "    <div id=\"df-ea0bc2e7-0299-43d4-84de-13d78fa12720\">\n",
              "      <button class=\"colab-df-quickchart\" onclick=\"quickchart('df-ea0bc2e7-0299-43d4-84de-13d78fa12720')\"\n",
              "              title=\"Suggest charts.\"\n",
              "              style=\"display:none;\">\n",
              "\n",
              "<svg xmlns=\"http://www.w3.org/2000/svg\" height=\"24px\"viewBox=\"0 0 24 24\"\n",
              "     width=\"24px\">\n",
              "    <g>\n",
              "        <path d=\"M19 3H5c-1.1 0-2 .9-2 2v14c0 1.1.9 2 2 2h14c1.1 0 2-.9 2-2V5c0-1.1-.9-2-2-2zM9 17H7v-7h2v7zm4 0h-2V7h2v10zm4 0h-2v-4h2v4z\"/>\n",
              "    </g>\n",
              "</svg>\n",
              "      </button>\n",
              "    </div>\n",
              "\n",
              "<style>\n",
              "  .colab-df-quickchart {\n",
              "    background-color: #E8F0FE;\n",
              "    border: none;\n",
              "    border-radius: 50%;\n",
              "    cursor: pointer;\n",
              "    display: none;\n",
              "    fill: #1967D2;\n",
              "    height: 32px;\n",
              "    padding: 0 0 0 0;\n",
              "    width: 32px;\n",
              "  }\n",
              "\n",
              "  .colab-df-quickchart:hover {\n",
              "    background-color: #E2EBFA;\n",
              "    box-shadow: 0px 1px 2px rgba(60, 64, 67, 0.3), 0px 1px 3px 1px rgba(60, 64, 67, 0.15);\n",
              "    fill: #174EA6;\n",
              "  }\n",
              "\n",
              "  [theme=dark] .colab-df-quickchart {\n",
              "    background-color: #3B4455;\n",
              "    fill: #D2E3FC;\n",
              "  }\n",
              "\n",
              "  [theme=dark] .colab-df-quickchart:hover {\n",
              "    background-color: #434B5C;\n",
              "    box-shadow: 0px 1px 3px 1px rgba(0, 0, 0, 0.15);\n",
              "    filter: drop-shadow(0px 1px 2px rgba(0, 0, 0, 0.3));\n",
              "    fill: #FFFFFF;\n",
              "  }\n",
              "</style>\n",
              "\n",
              "    <script>\n",
              "      async function quickchart(key) {\n",
              "        const containerElement = document.querySelector('#' + key);\n",
              "        const charts = await google.colab.kernel.invokeFunction(\n",
              "            'suggestCharts', [key], {});\n",
              "      }\n",
              "    </script>\n",
              "\n",
              "      <script>\n",
              "\n",
              "function displayQuickchartButton(domScope) {\n",
              "  let quickchartButtonEl =\n",
              "    domScope.querySelector('#df-ea0bc2e7-0299-43d4-84de-13d78fa12720 button.colab-df-quickchart');\n",
              "  quickchartButtonEl.style.display =\n",
              "    google.colab.kernel.accessAllowed ? 'block' : 'none';\n",
              "}\n",
              "\n",
              "        displayQuickchartButton(document);\n",
              "      </script>\n",
              "      <style>\n",
              "    .colab-df-container {\n",
              "      display:flex;\n",
              "      flex-wrap:wrap;\n",
              "      gap: 12px;\n",
              "    }\n",
              "\n",
              "    .colab-df-convert {\n",
              "      background-color: #E8F0FE;\n",
              "      border: none;\n",
              "      border-radius: 50%;\n",
              "      cursor: pointer;\n",
              "      display: none;\n",
              "      fill: #1967D2;\n",
              "      height: 32px;\n",
              "      padding: 0 0 0 0;\n",
              "      width: 32px;\n",
              "    }\n",
              "\n",
              "    .colab-df-convert:hover {\n",
              "      background-color: #E2EBFA;\n",
              "      box-shadow: 0px 1px 2px rgba(60, 64, 67, 0.3), 0px 1px 3px 1px rgba(60, 64, 67, 0.15);\n",
              "      fill: #174EA6;\n",
              "    }\n",
              "\n",
              "    [theme=dark] .colab-df-convert {\n",
              "      background-color: #3B4455;\n",
              "      fill: #D2E3FC;\n",
              "    }\n",
              "\n",
              "    [theme=dark] .colab-df-convert:hover {\n",
              "      background-color: #434B5C;\n",
              "      box-shadow: 0px 1px 3px 1px rgba(0, 0, 0, 0.15);\n",
              "      filter: drop-shadow(0px 1px 2px rgba(0, 0, 0, 0.3));\n",
              "      fill: #FFFFFF;\n",
              "    }\n",
              "  </style>\n",
              "\n",
              "      <script>\n",
              "        const buttonEl =\n",
              "          document.querySelector('#df-9a5df7de-979f-48b2-8868-8dd6edd2e94d button.colab-df-convert');\n",
              "        buttonEl.style.display =\n",
              "          google.colab.kernel.accessAllowed ? 'block' : 'none';\n",
              "\n",
              "        async function convertToInteractive(key) {\n",
              "          const element = document.querySelector('#df-9a5df7de-979f-48b2-8868-8dd6edd2e94d');\n",
              "          const dataTable =\n",
              "            await google.colab.kernel.invokeFunction('convertToInteractive',\n",
              "                                                     [key], {});\n",
              "          if (!dataTable) return;\n",
              "\n",
              "          const docLinkHtml = 'Like what you see? Visit the ' +\n",
              "            '<a target=\"_blank\" href=https://colab.research.google.com/notebooks/data_table.ipynb>data table notebook</a>'\n",
              "            + ' to learn more about interactive tables.';\n",
              "          element.innerHTML = '';\n",
              "          dataTable['output_type'] = 'display_data';\n",
              "          await google.colab.output.renderOutput(dataTable, element);\n",
              "          const docLink = document.createElement('div');\n",
              "          docLink.innerHTML = docLinkHtml;\n",
              "          element.appendChild(docLink);\n",
              "        }\n",
              "      </script>\n",
              "    </div>\n",
              "  </div>\n"
            ]
          },
          "metadata": {},
          "execution_count": 24
        }
      ]
    },
    {
      "cell_type": "code",
      "source": [
        "# Calculate the total quantity sold for each item\n",
        "top_items = df.groupby('Item Description')['Qty'].sum().nlargest(10)\n",
        "\n",
        "# Plot top-selling items\n",
        "sns.barplot(x=top_items.index, y=top_items.values,palette='viridis')\n",
        "plt.xlabel('Item Description')\n",
        "plt.ylabel('Total Quantity Purchased')\n",
        "plt.title('Top Selling Items')\n",
        "plt.xticks(rotation=45)\n",
        "plt.show()"
      ],
      "metadata": {
        "colab": {
          "base_uri": "https://localhost:8080/",
          "height": 593
        },
        "id": "7ZCgHc25r1vb",
        "outputId": "d72e00e8-c0a5-4687-bc3c-ab26a46d68d2"
      },
      "execution_count": null,
      "outputs": [
        {
          "output_type": "display_data",
          "data": {
            "text/plain": [
              "<Figure size 640x480 with 1 Axes>"
            ],
            "image/png": "[encoded data removed]"
          },
          "metadata": {}
        }
      ]
    },
    {
      "cell_type": "markdown",
      "source": [
        "Which is the most purchased product? (Amount Wise)"
      ],
      "metadata": {
        "id": "zlZtSOBtkTIA"
      }
    },
    {
      "cell_type": "code",
      "source": [
        "products = df.groupby(['Item Description','Maker']).sum().sort_values('Amount' , ascending = False)\n",
        "products.head(10)"
      ],
      "metadata": {
        "colab": {
          "base_uri": "https://localhost:8080/",
          "height": 449
        },
        "id": "7WTI9PInkZEE",
        "outputId": "11bfe860-208f-4aad-bd5c-74d23a193963"
      },
      "execution_count": null,
      "outputs": [
        {
          "output_type": "stream",
          "name": "stderr",
          "text": [
            "<ipython-input-13-39cdd4c9543e>:1: FutureWarning: The default value of numeric_only in DataFrameGroupBy.sum is deprecated. In a future version, numeric_only will default to False. Either specify numeric_only or select only columns which should be valid for the function.\n",
            "  products = df.groupby(['Item Description','Maker']).sum().sort_values('Amount' , ascending = False)\n"
          ]
        },
        {
          "output_type": "execute_result",
          "data": {
            "text/plain": [
              "                                        Qty    Rate    Amount\n",
              "Item Description             Maker                           \n",
              "AQRAB-D CAPSULE              Aquila  1955.0  1380.0  269790.0\n",
              "FIXVIL-AZ-LB TABLET          Aquila   296.0  1650.0  244200.0\n",
              "FIXVIL-O-LB TABLET           Aquila   410.0  2150.0  176300.0\n",
              "MCOLA PLUS CAPSULES          Aquila   600.0  2660.0  168500.0\n",
              "TYNIMOX CV 625 TABLET (10X6) Aquila   417.0  3420.0  157320.0\n",
              "AQCEF-200 DT TABLET          Aquila   430.0  3730.0  145100.0\n",
              "AQCEF-O TABLET               Aquila   318.0  1730.0  137330.0\n",
              "AQDOM-O CAPSULE              Aquila  1724.0   954.0  135020.0\n",
              "AQLOX-200 TABLET             Aquila   825.0  1210.0   90750.0\n",
              "PAS-P TABLET                 Aquila   685.0  1064.0   80600.0"
            ],
            "text/html": [
              "\n",
              "\n",
              "  <div id=\"df-1d5a346e-ac0b-417d-a1e3-10c76e6423d1\">\n",
              "    <div class=\"colab-df-container\">\n",
              "      <div>\n",
              "<style scoped>\n",
              "    .dataframe tbody tr th:only-of-type {\n",
              "        vertical-align: middle;\n",
              "    }\n",
              "\n",
              "    .dataframe tbody tr th {\n",
              "        vertical-align: top;\n",
              "    }\n",
              "\n",
              "    .dataframe thead th {\n",
              "        text-align: right;\n",
              "    }\n",
              "</style>\n",
              "<table border=\"1\" class=\"dataframe\">\n",
              "  <thead>\n",
              "    <tr style=\"text-align: right;\">\n",
              "      <th></th>\n",
              "      <th></th>\n",
              "      <th>Qty</th>\n",
              "      <th>Rate</th>\n",
              "      <th>Amount</th>\n",
              "    </tr>\n",
              "    <tr>\n",
              "      <th>Item Description</th>\n",
              "      <th>Maker</th>\n",
              "      <th></th>\n",
              "      <th></th>\n",
              "      <th></th>\n",
              "    </tr>\n",
              "  </thead>\n",
              "  <tbody>\n",
              "    <tr>\n",
              "      <th>AQRAB-D CAPSULE</th>\n",
              "      <th>Aquila</th>\n",
              "      <td>1955.0</td>\n",
              "      <td>1380.0</td>\n",
              "      <td>269790.0</td>\n",
              "    </tr>\n",
              "    <tr>\n",
              "      <th>FIXVIL-AZ-LB TABLET</th>\n",
              "      <th>Aquila</th>\n",
              "      <td>296.0</td>\n",
              "      <td>1650.0</td>\n",
              "      <td>244200.0</td>\n",
              "    </tr>\n",
              "    <tr>\n",
              "      <th>FIXVIL-O-LB TABLET</th>\n",
              "      <th>Aquila</th>\n",
              "      <td>410.0</td>\n",
              "      <td>2150.0</td>\n",
              "      <td>176300.0</td>\n",
              "    </tr>\n",
              "    <tr>\n",
              "      <th>MCOLA PLUS CAPSULES</th>\n",
              "      <th>Aquila</th>\n",
              "      <td>600.0</td>\n",
              "      <td>2660.0</td>\n",
              "      <td>168500.0</td>\n",
              "    </tr>\n",
              "    <tr>\n",
              "      <th>TYNIMOX CV 625 TABLET (10X6)</th>\n",
              "      <th>Aquila</th>\n",
              "      <td>417.0</td>\n",
              "      <td>3420.0</td>\n",
              "      <td>157320.0</td>\n",
              "    </tr>\n",
              "    <tr>\n",
              "      <th>AQCEF-200 DT TABLET</th>\n",
              "      <th>Aquila</th>\n",
              "      <td>430.0</td>\n",
              "      <td>3730.0</td>\n",
              "      <td>145100.0</td>\n",
              "    </tr>\n",
              "    <tr>\n",
              "      <th>AQCEF-O TABLET</th>\n",
              "      <th>Aquila</th>\n",
              "      <td>318.0</td>\n",
              "      <td>1730.0</td>\n",
              "      <td>137330.0</td>\n",
              "    </tr>\n",
              "    <tr>\n",
              "      <th>AQDOM-O CAPSULE</th>\n",
              "      <th>Aquila</th>\n",
              "      <td>1724.0</td>\n",
              "      <td>954.0</td>\n",
              "      <td>135020.0</td>\n",
              "    </tr>\n",
              "    <tr>\n",
              "      <th>AQLOX-200 TABLET</th>\n",
              "      <th>Aquila</th>\n",
              "      <td>825.0</td>\n",
              "      <td>1210.0</td>\n",
              "      <td>90750.0</td>\n",
              "    </tr>\n",
              "    <tr>\n",
              "      <th>PAS-P TABLET</th>\n",
              "      <th>Aquila</th>\n",
              "      <td>685.0</td>\n",
              "      <td>1064.0</td>\n",
              "      <td>80600.0</td>\n",
              "    </tr>\n",
              "  </tbody>\n",
              "</table>\n",
              "</div>\n",
              "      <button class=\"colab-df-convert\" onclick=\"convertToInteractive('df-1d5a346e-ac0b-417d-a1e3-10c76e6423d1')\"\n",
              "              title=\"Convert this dataframe to an interactive table.\"\n",
              "              style=\"display:none;\">\n",
              "\n",
              "  <svg xmlns=\"http://www.w3.org/2000/svg\" height=\"24px\"viewBox=\"0 0 24 24\"\n",
              "       width=\"24px\">\n",
              "    <path d=\"M0 0h24v24H0V0z\" fill=\"none\"/>\n",
              "    <path d=\"M18.56 5.44l.94 2.06.94-2.06 2.06-.94-2.06-.94-.94-2.06-.94 2.06-2.06.94zm-11 1L8.5 8.5l.94-2.06 2.06-.94-2.06-.94L8.5 2.5l-.94 2.06-2.06.94zm10 10l.94 2.06.94-2.06 2.06-.94-2.06-.94-.94-2.06-.94 2.06-2.06.94z\"/><path d=\"M17.41 7.96l-1.37-1.37c-.4-.4-.92-.59-1.43-.59-.52 0-1.04.2-1.43.59L10.3 9.45l-7.72 7.72c-.78.78-.78 2.05 0 2.83L4 21.41c.39.39.9.59 1.41.59.51 0 1.02-.2 1.41-.59l7.78-7.78 2.81-2.81c.8-.78.8-2.07 0-2.86zM5.41 20L4 18.59l7.72-7.72 1.47 1.35L5.41 20z\"/>\n",
              "  </svg>\n",
              "      </button>\n",
              "\n",
              "\n",
              "\n",
              "    <div id=\"df-134a14f1-b9da-4101-92ea-5c0b948fd822\">\n",
              "      <button class=\"colab-df-quickchart\" onclick=\"quickchart('df-134a14f1-b9da-4101-92ea-5c0b948fd822')\"\n",
              "              title=\"Suggest charts.\"\n",
              "              style=\"display:none;\">\n",
              "\n",
              "<svg xmlns=\"http://www.w3.org/2000/svg\" height=\"24px\"viewBox=\"0 0 24 24\"\n",
              "     width=\"24px\">\n",
              "    <g>\n",
              "        <path d=\"M19 3H5c-1.1 0-2 .9-2 2v14c0 1.1.9 2 2 2h14c1.1 0 2-.9 2-2V5c0-1.1-.9-2-2-2zM9 17H7v-7h2v7zm4 0h-2V7h2v10zm4 0h-2v-4h2v4z\"/>\n",
              "    </g>\n",
              "</svg>\n",
              "      </button>\n",
              "    </div>\n",
              "\n",
              "<style>\n",
              "  .colab-df-quickchart {\n",
              "    background-color: #E8F0FE;\n",
              "    border: none;\n",
              "    border-radius: 50%;\n",
              "    cursor: pointer;\n",
              "    display: none;\n",
              "    fill: #1967D2;\n",
              "    height: 32px;\n",
              "    padding: 0 0 0 0;\n",
              "    width: 32px;\n",
              "  }\n",
              "\n",
              "  .colab-df-quickchart:hover {\n",
              "    background-color: #E2EBFA;\n",
              "    box-shadow: 0px 1px 2px rgba(60, 64, 67, 0.3), 0px 1px 3px 1px rgba(60, 64, 67, 0.15);\n",
              "    fill: #174EA6;\n",
              "  }\n",
              "\n",
              "  [theme=dark] .colab-df-quickchart {\n",
              "    background-color: #3B4455;\n",
              "    fill: #D2E3FC;\n",
              "  }\n",
              "\n",
              "  [theme=dark] .colab-df-quickchart:hover {\n",
              "    background-color: #434B5C;\n",
              "    box-shadow: 0px 1px 3px 1px rgba(0, 0, 0, 0.15);\n",
              "    filter: drop-shadow(0px 1px 2px rgba(0, 0, 0, 0.3));\n",
              "    fill: #FFFFFF;\n",
              "  }\n",
              "</style>\n",
              "\n",
              "    <script>\n",
              "      async function quickchart(key) {\n",
              "        const containerElement = document.querySelector('#' + key);\n",
              "        const charts = await google.colab.kernel.invokeFunction(\n",
              "            'suggestCharts', [key], {});\n",
              "      }\n",
              "    </script>\n",
              "\n",
              "      <script>\n",
              "\n",
              "function displayQuickchartButton(domScope) {\n",
              "  let quickchartButtonEl =\n",
              "    domScope.querySelector('#df-134a14f1-b9da-4101-92ea-5c0b948fd822 button.colab-df-quickchart');\n",
              "  quickchartButtonEl.style.display =\n",
              "    google.colab.kernel.accessAllowed ? 'block' : 'none';\n",
              "}\n",
              "\n",
              "        displayQuickchartButton(document);\n",
              "      </script>\n",
              "      <style>\n",
              "    .colab-df-container {\n",
              "      display:flex;\n",
              "      flex-wrap:wrap;\n",
              "      gap: 12px;\n",
              "    }\n",
              "\n",
              "    .colab-df-convert {\n",
              "      background-color: #E8F0FE;\n",
              "      border: none;\n",
              "      border-radius: 50%;\n",
              "      cursor: pointer;\n",
              "      display: none;\n",
              "      fill: #1967D2;\n",
              "      height: 32px;\n",
              "      padding: 0 0 0 0;\n",
              "      width: 32px;\n",
              "    }\n",
              "\n",
              "    .colab-df-convert:hover {\n",
              "      background-color: #E2EBFA;\n",
              "      box-shadow: 0px 1px 2px rgba(60, 64, 67, 0.3), 0px 1px 3px 1px rgba(60, 64, 67, 0.15);\n",
              "      fill: #174EA6;\n",
              "    }\n",
              "\n",
              "    [theme=dark] .colab-df-convert {\n",
              "      background-color: #3B4455;\n",
              "      fill: #D2E3FC;\n",
              "    }\n",
              "\n",
              "    [theme=dark] .colab-df-convert:hover {\n",
              "      background-color: #434B5C;\n",
              "      box-shadow: 0px 1px 3px 1px rgba(0, 0, 0, 0.15);\n",
              "      filter: drop-shadow(0px 1px 2px rgba(0, 0, 0, 0.3));\n",
              "      fill: #FFFFFF;\n",
              "    }\n",
              "  </style>\n",
              "\n",
              "      <script>\n",
              "        const buttonEl =\n",
              "          document.querySelector('#df-1d5a346e-ac0b-417d-a1e3-10c76e6423d1 button.colab-df-convert');\n",
              "        buttonEl.style.display =\n",
              "          google.colab.kernel.accessAllowed ? 'block' : 'none';\n",
              "\n",
              "        async function convertToInteractive(key) {\n",
              "          const element = document.querySelector('#df-1d5a346e-ac0b-417d-a1e3-10c76e6423d1');\n",
              "          const dataTable =\n",
              "            await google.colab.kernel.invokeFunction('convertToInteractive',\n",
              "                                                     [key], {});\n",
              "          if (!dataTable) return;\n",
              "\n",
              "          const docLinkHtml = 'Like what you see? Visit the ' +\n",
              "            '<a target=\"_blank\" href=https://colab.research.google.com/notebooks/data_table.ipynb>data table notebook</a>'\n",
              "            + ' to learn more about interactive tables.';\n",
              "          element.innerHTML = '';\n",
              "          dataTable['output_type'] = 'display_data';\n",
              "          await google.colab.output.renderOutput(dataTable, element);\n",
              "          const docLink = document.createElement('div');\n",
              "          docLink.innerHTML = docLinkHtml;\n",
              "          element.appendChild(docLink);\n",
              "        }\n",
              "      </script>\n",
              "    </div>\n",
              "  </div>\n"
            ]
          },
          "metadata": {},
          "execution_count": 13
        }
      ]
    },
    {
      "cell_type": "code",
      "source": [
        "# Calculate the total quantity sold for each item\n",
        "top_items = df.groupby('Item Description')['Amount'].sum().nlargest(10)\n",
        "\n",
        "# Plot top-selling items\n",
        "sns.barplot(x=top_items.index, y=top_items.values,palette='Blues')\n",
        "plt.xlabel('Item Description')\n",
        "plt.ylabel('Total Amount')\n",
        "plt.title('Top Selling Items')\n",
        "plt.xticks(rotation=45)\n",
        "plt.show()"
      ],
      "metadata": {
        "colab": {
          "base_uri": "https://localhost:8080/",
          "height": 626
        },
        "id": "z4j9m2yIsR38",
        "outputId": "1c98ecbb-8f1d-4694-afa1-e4214d98e746"
      },
      "execution_count": null,
      "outputs": [
        {
          "output_type": "display_data",
          "data": {
            "text/plain": [
              "<Figure size 640x480 with 1 Axes>"
            ],
            "image/png": "[encoded data removed]"
          },
          "metadata": {}
        }
      ]
    },
    {
      "cell_type": "markdown",
      "source": [
        "\n",
        "\n",
        "1.   We could see that Injections and Syrups are the most purchased products; Quantity wise.\n",
        "2.   And Capsules and Tablets corresponds to highest amount.\n",
        "  \n",
        "2.   **AQRAB-D CAPSULE, FIXVIL-AZ-LB TABLET, FIXVIL-O-LB TABLET, MCOLA PLUS CAPSULES, TYNIMOX CV 625 TABLET** are the **Top 5** product; Money wise.\n",
        "\n",
        "\n",
        "4.   **BROPECT EXPECTORANT, M-COLA INJECTION, AQRAB-D CAPSULE, ACEFO DRY SYRUP, ACAROT SYP 200 ML** are the **Top 5** product; Quantity wise.\n",
        "\n",
        "\n",
        "5.   Overall **AQRAB-D CAPSULE** is the best product as it is in top 5 in both.\n",
        "\n",
        "\n",
        "\n",
        "\n",
        "\n",
        "\n"
      ],
      "metadata": {
        "id": "AfRxRPj8VBAx"
      }
    },
    {
      "cell_type": "code",
      "source": [
        "products.tail(10)"
      ],
      "metadata": {
        "colab": {
          "base_uri": "https://localhost:8080/",
          "height": 394
        },
        "id": "g_z30ehSa46c",
        "outputId": "992ea43d-ef52-42da-f48f-8f32675087c5"
      },
      "execution_count": null,
      "outputs": [
        {
          "output_type": "execute_result",
          "data": {
            "text/plain": [
              "                                  Qty   Rate  Amount\n",
              "Item Description        Maker                       \n",
              "MAGNAFFIN PLUS SYP      ACME     72.0   26.0  1872.0\n",
              "NERVIMIN-NT TABLET      ACME     10.0  160.0  1600.0\n",
              "ACMEORS                 ACME    120.0   12.0  1440.0\n",
              "ACFEXO-M TABLET         ACME      5.0  268.0  1340.0\n",
              "C-MUNO + TABLET **      ACME     20.0   65.0  1300.0\n",
              "RHINONEED FORTE TAB     ACME     10.0  100.0  1000.0\n",
              "ACMESIS TABS.           ACME     10.0   90.0   900.0\n",
              "SECAL-DM TABS.(10*15T)  Aquila    5.0  130.0   650.0\n",
              "AFLACORT-6 TABS (10X10) ACME      4.0  145.0   580.0\n",
              "CONACARE SHAMPOO        ACME     10.0   45.0   450.0"
            ],
            "text/html": [
              "\n",
              "\n",
              "  <div id=\"df-2e30c177-5ecc-498b-be4a-7f56b0fb4ae6\">\n",
              "    <div class=\"colab-df-container\">\n",
              "      <div>\n",
              "<style scoped>\n",
              "    .dataframe tbody tr th:only-of-type {\n",
              "        vertical-align: middle;\n",
              "    }\n",
              "\n",
              "    .dataframe tbody tr th {\n",
              "        vertical-align: top;\n",
              "    }\n",
              "\n",
              "    .dataframe thead th {\n",
              "        text-align: right;\n",
              "    }\n",
              "</style>\n",
              "<table border=\"1\" class=\"dataframe\">\n",
              "  <thead>\n",
              "    <tr style=\"text-align: right;\">\n",
              "      <th></th>\n",
              "      <th></th>\n",
              "      <th>Qty</th>\n",
              "      <th>Rate</th>\n",
              "      <th>Amount</th>\n",
              "    </tr>\n",
              "    <tr>\n",
              "      <th>Item Description</th>\n",
              "      <th>Maker</th>\n",
              "      <th></th>\n",
              "      <th></th>\n",
              "      <th></th>\n",
              "    </tr>\n",
              "  </thead>\n",
              "  <tbody>\n",
              "    <tr>\n",
              "      <th>MAGNAFFIN PLUS SYP</th>\n",
              "      <th>ACME</th>\n",
              "      <td>72.0</td>\n",
              "      <td>26.0</td>\n",
              "      <td>1872.0</td>\n",
              "    </tr>\n",
              "    <tr>\n",
              "      <th>NERVIMIN-NT TABLET</th>\n",
              "      <th>ACME</th>\n",
              "      <td>10.0</td>\n",
              "      <td>160.0</td>\n",
              "      <td>1600.0</td>\n",
              "    </tr>\n",
              "    <tr>\n",
              "      <th>ACMEORS</th>\n",
              "      <th>ACME</th>\n",
              "      <td>120.0</td>\n",
              "      <td>12.0</td>\n",
              "      <td>1440.0</td>\n",
              "    </tr>\n",
              "    <tr>\n",
              "      <th>ACFEXO-M TABLET</th>\n",
              "      <th>ACME</th>\n",
              "      <td>5.0</td>\n",
              "      <td>268.0</td>\n",
              "      <td>1340.0</td>\n",
              "    </tr>\n",
              "    <tr>\n",
              "      <th>C-MUNO + TABLET **</th>\n",
              "      <th>ACME</th>\n",
              "      <td>20.0</td>\n",
              "      <td>65.0</td>\n",
              "      <td>1300.0</td>\n",
              "    </tr>\n",
              "    <tr>\n",
              "      <th>RHINONEED FORTE TAB</th>\n",
              "      <th>ACME</th>\n",
              "      <td>10.0</td>\n",
              "      <td>100.0</td>\n",
              "      <td>1000.0</td>\n",
              "    </tr>\n",
              "    <tr>\n",
              "      <th>ACMESIS TABS.</th>\n",
              "      <th>ACME</th>\n",
              "      <td>10.0</td>\n",
              "      <td>90.0</td>\n",
              "      <td>900.0</td>\n",
              "    </tr>\n",
              "    <tr>\n",
              "      <th>SECAL-DM TABS.(10*15T)</th>\n",
              "      <th>Aquila</th>\n",
              "      <td>5.0</td>\n",
              "      <td>130.0</td>\n",
              "      <td>650.0</td>\n",
              "    </tr>\n",
              "    <tr>\n",
              "      <th>AFLACORT-6 TABS (10X10)</th>\n",
              "      <th>ACME</th>\n",
              "      <td>4.0</td>\n",
              "      <td>145.0</td>\n",
              "      <td>580.0</td>\n",
              "    </tr>\n",
              "    <tr>\n",
              "      <th>CONACARE SHAMPOO</th>\n",
              "      <th>ACME</th>\n",
              "      <td>10.0</td>\n",
              "      <td>45.0</td>\n",
              "      <td>450.0</td>\n",
              "    </tr>\n",
              "  </tbody>\n",
              "</table>\n",
              "</div>\n",
              "      <button class=\"colab-df-convert\" onclick=\"convertToInteractive('df-2e30c177-5ecc-498b-be4a-7f56b0fb4ae6')\"\n",
              "              title=\"Convert this dataframe to an interactive table.\"\n",
              "              style=\"display:none;\">\n",
              "\n",
              "  <svg xmlns=\"http://www.w3.org/2000/svg\" height=\"24px\"viewBox=\"0 0 24 24\"\n",
              "       width=\"24px\">\n",
              "    <path d=\"M0 0h24v24H0V0z\" fill=\"none\"/>\n",
              "    <path d=\"M18.56 5.44l.94 2.06.94-2.06 2.06-.94-2.06-.94-.94-2.06-.94 2.06-2.06.94zm-11 1L8.5 8.5l.94-2.06 2.06-.94-2.06-.94L8.5 2.5l-.94 2.06-2.06.94zm10 10l.94 2.06.94-2.06 2.06-.94-2.06-.94-.94-2.06-.94 2.06-2.06.94z\"/><path d=\"M17.41 7.96l-1.37-1.37c-.4-.4-.92-.59-1.43-.59-.52 0-1.04.2-1.43.59L10.3 9.45l-7.72 7.72c-.78.78-.78 2.05 0 2.83L4 21.41c.39.39.9.59 1.41.59.51 0 1.02-.2 1.41-.59l7.78-7.78 2.81-2.81c.8-.78.8-2.07 0-2.86zM5.41 20L4 18.59l7.72-7.72 1.47 1.35L5.41 20z\"/>\n",
              "  </svg>\n",
              "      </button>\n",
              "\n",
              "\n",
              "\n",
              "    <div id=\"df-8ce8af2d-ae91-4214-a91d-268185362b76\">\n",
              "      <button class=\"colab-df-quickchart\" onclick=\"quickchart('df-8ce8af2d-ae91-4214-a91d-268185362b76')\"\n",
              "              title=\"Suggest charts.\"\n",
              "              style=\"display:none;\">\n",
              "\n",
              "<svg xmlns=\"http://www.w3.org/2000/svg\" height=\"24px\"viewBox=\"0 0 24 24\"\n",
              "     width=\"24px\">\n",
              "    <g>\n",
              "        <path d=\"M19 3H5c-1.1 0-2 .9-2 2v14c0 1.1.9 2 2 2h14c1.1 0 2-.9 2-2V5c0-1.1-.9-2-2-2zM9 17H7v-7h2v7zm4 0h-2V7h2v10zm4 0h-2v-4h2v4z\"/>\n",
              "    </g>\n",
              "</svg>\n",
              "      </button>\n",
              "    </div>\n",
              "\n",
              "<style>\n",
              "  .colab-df-quickchart {\n",
              "    background-color: #E8F0FE;\n",
              "    border: none;\n",
              "    border-radius: 50%;\n",
              "    cursor: pointer;\n",
              "    display: none;\n",
              "    fill: #1967D2;\n",
              "    height: 32px;\n",
              "    padding: 0 0 0 0;\n",
              "    width: 32px;\n",
              "  }\n",
              "\n",
              "  .colab-df-quickchart:hover {\n",
              "    background-color: #E2EBFA;\n",
              "    box-shadow: 0px 1px 2px rgba(60, 64, 67, 0.3), 0px 1px 3px 1px rgba(60, 64, 67, 0.15);\n",
              "    fill: #174EA6;\n",
              "  }\n",
              "\n",
              "  [theme=dark] .colab-df-quickchart {\n",
              "    background-color: #3B4455;\n",
              "    fill: #D2E3FC;\n",
              "  }\n",
              "\n",
              "  [theme=dark] .colab-df-quickchart:hover {\n",
              "    background-color: #434B5C;\n",
              "    box-shadow: 0px 1px 3px 1px rgba(0, 0, 0, 0.15);\n",
              "    filter: drop-shadow(0px 1px 2px rgba(0, 0, 0, 0.3));\n",
              "    fill: #FFFFFF;\n",
              "  }\n",
              "</style>\n",
              "\n",
              "    <script>\n",
              "      async function quickchart(key) {\n",
              "        const containerElement = document.querySelector('#' + key);\n",
              "        const charts = await google.colab.kernel.invokeFunction(\n",
              "            'suggestCharts', [key], {});\n",
              "      }\n",
              "    </script>\n",
              "\n",
              "      <script>\n",
              "\n",
              "function displayQuickchartButton(domScope) {\n",
              "  let quickchartButtonEl =\n",
              "    domScope.querySelector('#df-8ce8af2d-ae91-4214-a91d-268185362b76 button.colab-df-quickchart');\n",
              "  quickchartButtonEl.style.display =\n",
              "    google.colab.kernel.accessAllowed ? 'block' : 'none';\n",
              "}\n",
              "\n",
              "        displayQuickchartButton(document);\n",
              "      </script>\n",
              "      <style>\n",
              "    .colab-df-container {\n",
              "      display:flex;\n",
              "      flex-wrap:wrap;\n",
              "      gap: 12px;\n",
              "    }\n",
              "\n",
              "    .colab-df-convert {\n",
              "      background-color: #E8F0FE;\n",
              "      border: none;\n",
              "      border-radius: 50%;\n",
              "      cursor: pointer;\n",
              "      display: none;\n",
              "      fill: #1967D2;\n",
              "      height: 32px;\n",
              "      padding: 0 0 0 0;\n",
              "      width: 32px;\n",
              "    }\n",
              "\n",
              "    .colab-df-convert:hover {\n",
              "      background-color: #E2EBFA;\n",
              "      box-shadow: 0px 1px 2px rgba(60, 64, 67, 0.3), 0px 1px 3px 1px rgba(60, 64, 67, 0.15);\n",
              "      fill: #174EA6;\n",
              "    }\n",
              "\n",
              "    [theme=dark] .colab-df-convert {\n",
              "      background-color: #3B4455;\n",
              "      fill: #D2E3FC;\n",
              "    }\n",
              "\n",
              "    [theme=dark] .colab-df-convert:hover {\n",
              "      background-color: #434B5C;\n",
              "      box-shadow: 0px 1px 3px 1px rgba(0, 0, 0, 0.15);\n",
              "      filter: drop-shadow(0px 1px 2px rgba(0, 0, 0, 0.3));\n",
              "      fill: #FFFFFF;\n",
              "    }\n",
              "  </style>\n",
              "\n",
              "      <script>\n",
              "        const buttonEl =\n",
              "          document.querySelector('#df-2e30c177-5ecc-498b-be4a-7f56b0fb4ae6 button.colab-df-convert');\n",
              "        buttonEl.style.display =\n",
              "          google.colab.kernel.accessAllowed ? 'block' : 'none';\n",
              "\n",
              "        async function convertToInteractive(key) {\n",
              "          const element = document.querySelector('#df-2e30c177-5ecc-498b-be4a-7f56b0fb4ae6');\n",
              "          const dataTable =\n",
              "            await google.colab.kernel.invokeFunction('convertToInteractive',\n",
              "                                                     [key], {});\n",
              "          if (!dataTable) return;\n",
              "\n",
              "          const docLinkHtml = 'Like what you see? Visit the ' +\n",
              "            '<a target=\"_blank\" href=https://colab.research.google.com/notebooks/data_table.ipynb>data table notebook</a>'\n",
              "            + ' to learn more about interactive tables.';\n",
              "          element.innerHTML = '';\n",
              "          dataTable['output_type'] = 'display_data';\n",
              "          await google.colab.output.renderOutput(dataTable, element);\n",
              "          const docLink = document.createElement('div');\n",
              "          docLink.innerHTML = docLinkHtml;\n",
              "          element.appendChild(docLink);\n",
              "        }\n",
              "      </script>\n",
              "    </div>\n",
              "  </div>\n"
            ]
          },
          "metadata": {},
          "execution_count": 12
        }
      ]
    },
    {
      "cell_type": "markdown",
      "source": [
        "**These are the least performing Products.**"
      ],
      "metadata": {
        "id": "MnQiiRqCbTD5"
      }
    },
    {
      "cell_type": "markdown",
      "source": [
        "Name of each product Purchased"
      ],
      "metadata": {
        "id": "lP1RDZP0_OwW"
      }
    },
    {
      "cell_type": "code",
      "source": [
        "products.reset_index()['Item Description'].unique()"
      ],
      "metadata": {
        "colab": {
          "base_uri": "https://localhost:8080/"
        },
        "id": "Cv3pYT-CY3oI",
        "outputId": "e6d3d1ed-2940-42e3-e53a-0b8779e16c95"
      },
      "execution_count": null,
      "outputs": [
        {
          "output_type": "execute_result",
          "data": {
            "text/plain": [
              "array(['AQRAB-D CAPSULE', 'FIXVIL-AZ-LB TABLET', 'FIXVIL-O-LB TABLET',\n",
              "       'MCOLA PLUS CAPSULES', 'TYNIMOX CV 625 TABLET (10X6)',\n",
              "       'AQCEF-200 DT TABLET', 'AQCEF-O TABLET', 'AQDOM-O CAPSULE',\n",
              "       'AQLOX-200 TABLET', 'PAS-P TABLET', 'TYNIMOX 500 CAPS',\n",
              "       'TURBO TABLET', 'AQRAB-D CAPSULE (L)', 'AGESTRON - 500 INJ',\n",
              "       'BROPECT EXPECTORANT', 'AQUIGESIC TABLET', '\\nACAROT SYP 200 ML',\n",
              "       'AQPAR-P TABLET', 'CALBIN K2 TAB', 'AQRAB L CAP (10*10)',\n",
              "       '\\nTRAMPOL TAB', 'AQZYME SYRUP', 'COUGHEX-LT SYRUP',\n",
              "       'ACEFO DRY SYRUP', 'AQPAR-S TABLET', 'TRISUL 1.5 GM INJECTION',\n",
              "       'TYNIMOX DS KID TABLET', 'AQDOXIM-200 DT TABLET',\n",
              "       'AQLOX OZ TABLET', 'FEB-Z-XT SYRUP', 'MAMTAFER SYRUP **',\n",
              "       'ACPRO POWDER **', 'M-COLA INJECTION',\n",
              "       'CALCIQ-Z SOFT GELATIN CAPS', 'CALCIATE-K2 TABLET',\n",
              "       'AQTUM-500 TABLET', 'ACOPENE 12G SOFT GEL CAPSULE',\n",
              "       'ACAROT SYP 200 ML', 'NERVIMIN - GN TAB', 'PAS TABLETS',\n",
              "       'AQCET-M TABLET', 'COUGHEX-D SYRUP 100ML', 'AQULIV FORTE CAP',\n",
              "       'CALCIATE PLUS CAPSULE', 'AQPENE SYRUP **', '\\nAQCARE SOAP 75 GM',\n",
              "       'BESTOLIV-5 SYRUP', 'ATERIO-MR TABLET', 'NERVIMIN-DHA CAPS.',\n",
              "       'KALPROX-DT TABLET', '\\nACMESIS PLUS TABLET', 'AQNAZOL-200 CAPS',\n",
              "       'ACMOL-650 TABS.', 'PROVILLA POWDER', 'AQVIT-M TABLET',\n",
              "       'AQCET-5 TABLET', 'ATERIO P TABLET', 'AQTHRAL-500 TABLETS',\n",
              "       'NANODEC-50 INJ.', 'ACMOL 500 TAB', 'AQDROT-M TABLET',\n",
              "       'AQCEF-CV-325 TABLET', 'COPEP TABLETS (NEW)', 'ACAROT SYP 100 ML',\n",
              "       'ACMETAM SYP 200 ML', 'INLYTE-CZ POWDER', 'ACMEZYME TABLET',\n",
              "       'ACPRO-SF POWDER **', 'AQCEF 100 DT TABLET', 'AQUI GEL 30 GM',\n",
              "       'FUNGOMAX TABS', 'SERAQ-D TABS.', 'AQTHRAL-250 TABLET',\n",
              "       'ACAROT CAPS. (10X1X10)', 'AQCEF O DRY SYRUP',\n",
              "       'MAGNAFFIN PLUS SYP', 'NERVIMIN-NT TABLET', 'ACMEORS',\n",
              "       'ACFEXO-M TABLET', 'C-MUNO + TABLET **', 'RHINONEED FORTE TAB',\n",
              "       'ACMESIS TABS.', 'SECAL-DM TABS.(10*15T)',\n",
              "       'AFLACORT-6 TABS (10X10)', 'CONACARE SHAMPOO'], dtype=object)"
            ]
          },
          "metadata": {},
          "execution_count": 104
        }
      ]
    },
    {
      "cell_type": "markdown",
      "source": [
        "Total Number of Products Purchased"
      ],
      "metadata": {
        "id": "ICIpIOdWZ7lZ"
      }
    },
    {
      "cell_type": "code",
      "source": [
        "products.reset_index()['Item Description'].nunique()"
      ],
      "metadata": {
        "colab": {
          "base_uri": "https://localhost:8080/"
        },
        "id": "5ts6nu_8Zom6",
        "outputId": "814f6ab1-85f3-4721-bd3b-008ae2e93d68"
      },
      "execution_count": null,
      "outputs": [
        {
          "output_type": "execute_result",
          "data": {
            "text/plain": [
              "85"
            ]
          },
          "metadata": {},
          "execution_count": 105
        }
      ]
    },
    {
      "cell_type": "markdown",
      "source": [
        "Number of order wrt each Maker"
      ],
      "metadata": {
        "id": "srAq-WlWaHwg"
      }
    },
    {
      "cell_type": "code",
      "source": [
        "df['Maker'].value_counts()"
      ],
      "metadata": {
        "colab": {
          "base_uri": "https://localhost:8080/"
        },
        "id": "tcEW6jj5_KPB",
        "outputId": "a14abb90-50b4-4f91-e344-679a729a6052"
      },
      "execution_count": null,
      "outputs": [
        {
          "output_type": "execute_result",
          "data": {
            "text/plain": [
              "Aquila     236\n",
              "ACME        76\n",
              "Genesis     26\n",
              "SAPPL        6\n",
              "Name: Maker, dtype: int64"
            ]
          },
          "metadata": {},
          "execution_count": 9
        }
      ]
    },
    {
      "cell_type": "markdown",
      "source": [
        "Number of Products from Each Maker"
      ],
      "metadata": {
        "id": "EuePxxE-u3be"
      }
    },
    {
      "cell_type": "code",
      "source": [
        "products.reset_index()['Maker'].value_counts()"
      ],
      "metadata": {
        "colab": {
          "base_uri": "https://localhost:8080/"
        },
        "id": "LBpiZ6rauvUp",
        "outputId": "86dee2a2-bf18-4d03-8d6a-ec9a4d9d7ccd"
      },
      "execution_count": null,
      "outputs": [
        {
          "output_type": "execute_result",
          "data": {
            "text/plain": [
              "Aquila     47\n",
              "ACME       32\n",
              "Genesis     5\n",
              "SAPPL       1\n",
              "Name: Maker, dtype: int64"
            ]
          },
          "metadata": {},
          "execution_count": 8
        }
      ]
    },
    {
      "cell_type": "markdown",
      "source": [
        "**One very important Insight here is that Number of products from Aquila and ACME does not differ much but the amount differs vastly and 9 out of 10 least performing products are from ACME.**\n",
        "\n"
      ],
      "metadata": {
        "id": "S3tnmP7ZvrFr"
      }
    },
    {
      "cell_type": "markdown",
      "source": [
        "Biggest Orders"
      ],
      "metadata": {
        "id": "vS8lHn78_xaw"
      }
    },
    {
      "cell_type": "code",
      "source": [
        "df['Bill No.'].value_counts().head(5)"
      ],
      "metadata": {
        "colab": {
          "base_uri": "https://localhost:8080/"
        },
        "id": "12SGGU-5_b9x",
        "outputId": "349a06be-44b6-4d5b-882b-8941d72a549c"
      },
      "execution_count": null,
      "outputs": [
        {
          "output_type": "execute_result",
          "data": {
            "text/plain": [
              "AP2122      21\n",
              "ACME1695    19\n",
              "ACME3165    18\n",
              "ACME0118    17\n",
              "AP1469      15\n",
              "Name: Bill No., dtype: int64"
            ]
          },
          "metadata": {},
          "execution_count": 53
        }
      ]
    },
    {
      "cell_type": "markdown",
      "source": [
        "##Plots"
      ],
      "metadata": {
        "id": "kw0X8kcdaoTW"
      }
    },
    {
      "cell_type": "code",
      "source": [
        "sns.histplot(df['Rate'], bins =30)"
      ],
      "metadata": {
        "colab": {
          "base_uri": "https://localhost:8080/",
          "height": 466
        },
        "id": "Lo-JL0vIFzkX",
        "outputId": "5b11fa9e-4a9a-4003-fce0-012f0a14a1e2"
      },
      "execution_count": null,
      "outputs": [
        {
          "output_type": "execute_result",
          "data": {
            "text/plain": [
              "<Axes: xlabel='Rate', ylabel='Count'>"
            ]
          },
          "metadata": {},
          "execution_count": 11
        },
        {
          "output_type": "display_data",
          "data": {
            "text/plain": [
              "<Figure size 640x480 with 1 Axes>"
            ],
            "image/png": "[encoded data removed]"
          },
          "metadata": {}
        }
      ]
    },
    {
      "cell_type": "markdown",
      "source": [
        "We could see that most products have rates ranging from 0 to 500"
      ],
      "metadata": {
        "id": "qIvN6PMOJRtM"
      }
    },
    {
      "cell_type": "code",
      "source": [
        "sns.jointplot(x='Qty',y='Rate',data=df,kind='hex' )\n",
        "\n",
        "\n"
      ],
      "metadata": {
        "colab": {
          "base_uri": "https://localhost:8080/",
          "height": 624
        },
        "id": "4ntnvw3SHY-O",
        "outputId": "5bf7b94e-25e4-46cf-d703-659739a2e081"
      },
      "execution_count": null,
      "outputs": [
        {
          "output_type": "execute_result",
          "data": {
            "text/plain": [
              "<seaborn.axisgrid.JointGrid at 0x7ce7d8f74c10>"
            ]
          },
          "metadata": {},
          "execution_count": 37
        },
        {
          "output_type": "display_data",
          "data": {
            "text/plain": [
              "<Figure size 600x600 with 3 Axes>"
            ],
            "image/png": "[encoded data removed]"
          },
          "metadata": {}
        }
      ]
    },
    {
      "cell_type": "markdown",
      "source": [
        "**Low priced product are purchased in high Quantity and Product that are priced high are sold in low Quantity**"
      ],
      "metadata": {
        "id": "RJ4xpMkdJmRj"
      }
    },
    {
      "cell_type": "markdown",
      "source": [
        "Using Seaborn to make countplot for each Maker"
      ],
      "metadata": {
        "id": "Nn8JcNujCvkR"
      }
    },
    {
      "cell_type": "code",
      "source": [
        "sns.countplot(x='Maker',data=df,palette = 'Blues')\n",
        "plt.title('Total order from Makers')\n"
      ],
      "metadata": {
        "colab": {
          "base_uri": "https://localhost:8080/",
          "height": 489
        },
        "id": "OQFhTmQMCjRG",
        "outputId": "bfd22dff-03b6-42dc-a625-673e56ac0d12"
      },
      "execution_count": null,
      "outputs": [
        {
          "output_type": "execute_result",
          "data": {
            "text/plain": [
              "Text(0.5, 1.0, 'Total order from Makers')"
            ]
          },
          "metadata": {},
          "execution_count": 34
        },
        {
          "output_type": "display_data",
          "data": {
            "text/plain": [
              "<Figure size 640x480 with 1 Axes>"
            ],
            "image/png": "[encoded data removed]"
          },
          "metadata": {}
        }
      ]
    },
    {
      "cell_type": "markdown",
      "source": [
        "**We could see how Number of orders vary with each Maker**"
      ],
      "metadata": {
        "id": "FKmPSsLOTokv"
      }
    },
    {
      "cell_type": "markdown",
      "source": [
        "Finding out Amount and Quantity Purchased per Maker"
      ],
      "metadata": {
        "id": "2e16zhjfC7V5"
      }
    },
    {
      "cell_type": "code",
      "source": [
        "makerplot = df.groupby('Maker').sum()\n",
        "makerplot[['Amount' , 'Qty']]"
      ],
      "metadata": {
        "colab": {
          "base_uri": "https://localhost:8080/",
          "height": 261
        },
        "id": "Yvk6QkzObxhb",
        "outputId": "63deea97-e863-4938-93a4-0592629faf57"
      },
      "execution_count": null,
      "outputs": [
        {
          "output_type": "stream",
          "name": "stderr",
          "text": [
            "<ipython-input-31-f4643466b5e4>:1: FutureWarning: The default value of numeric_only in DataFrameGroupBy.sum is deprecated. In a future version, numeric_only will default to False. Either specify numeric_only or select only columns which should be valid for the function.\n",
            "  makerplot = df.groupby('Maker').sum()\n"
          ]
        },
        {
          "output_type": "execute_result",
          "data": {
            "text/plain": [
              "            Amount      Qty\n",
              "Maker                      \n",
              "ACME      422803.0   9828.0\n",
              "Aquila   2387456.2  24546.0\n",
              "Genesis   118000.0   1735.0\n",
              "SAPPL      43500.0    500.0"
            ],
            "text/html": [
              "\n",
              "\n",
              "  <div id=\"df-0d0e94a8-5c1b-4a24-96a1-2a614663d364\">\n",
              "    <div class=\"colab-df-container\">\n",
              "      <div>\n",
              "<style scoped>\n",
              "    .dataframe tbody tr th:only-of-type {\n",
              "        vertical-align: middle;\n",
              "    }\n",
              "\n",
              "    .dataframe tbody tr th {\n",
              "        vertical-align: top;\n",
              "    }\n",
              "\n",
              "    .dataframe thead th {\n",
              "        text-align: right;\n",
              "    }\n",
              "</style>\n",
              "<table border=\"1\" class=\"dataframe\">\n",
              "  <thead>\n",
              "    <tr style=\"text-align: right;\">\n",
              "      <th></th>\n",
              "      <th>Amount</th>\n",
              "      <th>Qty</th>\n",
              "    </tr>\n",
              "    <tr>\n",
              "      <th>Maker</th>\n",
              "      <th></th>\n",
              "      <th></th>\n",
              "    </tr>\n",
              "  </thead>\n",
              "  <tbody>\n",
              "    <tr>\n",
              "      <th>ACME</th>\n",
              "      <td>422803.0</td>\n",
              "      <td>9828.0</td>\n",
              "    </tr>\n",
              "    <tr>\n",
              "      <th>Aquila</th>\n",
              "      <td>2387456.2</td>\n",
              "      <td>24546.0</td>\n",
              "    </tr>\n",
              "    <tr>\n",
              "      <th>Genesis</th>\n",
              "      <td>118000.0</td>\n",
              "      <td>1735.0</td>\n",
              "    </tr>\n",
              "    <tr>\n",
              "      <th>SAPPL</th>\n",
              "      <td>43500.0</td>\n",
              "      <td>500.0</td>\n",
              "    </tr>\n",
              "  </tbody>\n",
              "</table>\n",
              "</div>\n",
              "      <button class=\"colab-df-convert\" onclick=\"convertToInteractive('df-0d0e94a8-5c1b-4a24-96a1-2a614663d364')\"\n",
              "              title=\"Convert this dataframe to an interactive table.\"\n",
              "              style=\"display:none;\">\n",
              "\n",
              "  <svg xmlns=\"http://www.w3.org/2000/svg\" height=\"24px\"viewBox=\"0 0 24 24\"\n",
              "       width=\"24px\">\n",
              "    <path d=\"M0 0h24v24H0V0z\" fill=\"none\"/>\n",
              "    <path d=\"M18.56 5.44l.94 2.06.94-2.06 2.06-.94-2.06-.94-.94-2.06-.94 2.06-2.06.94zm-11 1L8.5 8.5l.94-2.06 2.06-.94-2.06-.94L8.5 2.5l-.94 2.06-2.06.94zm10 10l.94 2.06.94-2.06 2.06-.94-2.06-.94-.94-2.06-.94 2.06-2.06.94z\"/><path d=\"M17.41 7.96l-1.37-1.37c-.4-.4-.92-.59-1.43-.59-.52 0-1.04.2-1.43.59L10.3 9.45l-7.72 7.72c-.78.78-.78 2.05 0 2.83L4 21.41c.39.39.9.59 1.41.59.51 0 1.02-.2 1.41-.59l7.78-7.78 2.81-2.81c.8-.78.8-2.07 0-2.86zM5.41 20L4 18.59l7.72-7.72 1.47 1.35L5.41 20z\"/>\n",
              "  </svg>\n",
              "      </button>\n",
              "\n",
              "\n",
              "\n",
              "    <div id=\"df-b26bb608-c018-4a60-bde3-02180736123d\">\n",
              "      <button class=\"colab-df-quickchart\" onclick=\"quickchart('df-b26bb608-c018-4a60-bde3-02180736123d')\"\n",
              "              title=\"Suggest charts.\"\n",
              "              style=\"display:none;\">\n",
              "\n",
              "<svg xmlns=\"http://www.w3.org/2000/svg\" height=\"24px\"viewBox=\"0 0 24 24\"\n",
              "     width=\"24px\">\n",
              "    <g>\n",
              "        <path d=\"M19 3H5c-1.1 0-2 .9-2 2v14c0 1.1.9 2 2 2h14c1.1 0 2-.9 2-2V5c0-1.1-.9-2-2-2zM9 17H7v-7h2v7zm4 0h-2V7h2v10zm4 0h-2v-4h2v4z\"/>\n",
              "    </g>\n",
              "</svg>\n",
              "      </button>\n",
              "    </div>\n",
              "\n",
              "<style>\n",
              "  .colab-df-quickchart {\n",
              "    background-color: #E8F0FE;\n",
              "    border: none;\n",
              "    border-radius: 50%;\n",
              "    cursor: pointer;\n",
              "    display: none;\n",
              "    fill: #1967D2;\n",
              "    height: 32px;\n",
              "    padding: 0 0 0 0;\n",
              "    width: 32px;\n",
              "  }\n",
              "\n",
              "  .colab-df-quickchart:hover {\n",
              "    background-color: #E2EBFA;\n",
              "    box-shadow: 0px 1px 2px rgba(60, 64, 67, 0.3), 0px 1px 3px 1px rgba(60, 64, 67, 0.15);\n",
              "    fill: #174EA6;\n",
              "  }\n",
              "\n",
              "  [theme=dark] .colab-df-quickchart {\n",
              "    background-color: #3B4455;\n",
              "    fill: #D2E3FC;\n",
              "  }\n",
              "\n",
              "  [theme=dark] .colab-df-quickchart:hover {\n",
              "    background-color: #434B5C;\n",
              "    box-shadow: 0px 1px 3px 1px rgba(0, 0, 0, 0.15);\n",
              "    filter: drop-shadow(0px 1px 2px rgba(0, 0, 0, 0.3));\n",
              "    fill: #FFFFFF;\n",
              "  }\n",
              "</style>\n",
              "\n",
              "    <script>\n",
              "      async function quickchart(key) {\n",
              "        const containerElement = document.querySelector('#' + key);\n",
              "        const charts = await google.colab.kernel.invokeFunction(\n",
              "            'suggestCharts', [key], {});\n",
              "      }\n",
              "    </script>\n",
              "\n",
              "      <script>\n",
              "\n",
              "function displayQuickchartButton(domScope) {\n",
              "  let quickchartButtonEl =\n",
              "    domScope.querySelector('#df-b26bb608-c018-4a60-bde3-02180736123d button.colab-df-quickchart');\n",
              "  quickchartButtonEl.style.display =\n",
              "    google.colab.kernel.accessAllowed ? 'block' : 'none';\n",
              "}\n",
              "\n",
              "        displayQuickchartButton(document);\n",
              "      </script>\n",
              "      <style>\n",
              "    .colab-df-container {\n",
              "      display:flex;\n",
              "      flex-wrap:wrap;\n",
              "      gap: 12px;\n",
              "    }\n",
              "\n",
              "    .colab-df-convert {\n",
              "      background-color: #E8F0FE;\n",
              "      border: none;\n",
              "      border-radius: 50%;\n",
              "      cursor: pointer;\n",
              "      display: none;\n",
              "      fill: #1967D2;\n",
              "      height: 32px;\n",
              "      padding: 0 0 0 0;\n",
              "      width: 32px;\n",
              "    }\n",
              "\n",
              "    .colab-df-convert:hover {\n",
              "      background-color: #E2EBFA;\n",
              "      box-shadow: 0px 1px 2px rgba(60, 64, 67, 0.3), 0px 1px 3px 1px rgba(60, 64, 67, 0.15);\n",
              "      fill: #174EA6;\n",
              "    }\n",
              "\n",
              "    [theme=dark] .colab-df-convert {\n",
              "      background-color: #3B4455;\n",
              "      fill: #D2E3FC;\n",
              "    }\n",
              "\n",
              "    [theme=dark] .colab-df-convert:hover {\n",
              "      background-color: #434B5C;\n",
              "      box-shadow: 0px 1px 3px 1px rgba(0, 0, 0, 0.15);\n",
              "      filter: drop-shadow(0px 1px 2px rgba(0, 0, 0, 0.3));\n",
              "      fill: #FFFFFF;\n",
              "    }\n",
              "  </style>\n",
              "\n",
              "      <script>\n",
              "        const buttonEl =\n",
              "          document.querySelector('#df-0d0e94a8-5c1b-4a24-96a1-2a614663d364 button.colab-df-convert');\n",
              "        buttonEl.style.display =\n",
              "          google.colab.kernel.accessAllowed ? 'block' : 'none';\n",
              "\n",
              "        async function convertToInteractive(key) {\n",
              "          const element = document.querySelector('#df-0d0e94a8-5c1b-4a24-96a1-2a614663d364');\n",
              "          const dataTable =\n",
              "            await google.colab.kernel.invokeFunction('convertToInteractive',\n",
              "                                                     [key], {});\n",
              "          if (!dataTable) return;\n",
              "\n",
              "          const docLinkHtml = 'Like what you see? Visit the ' +\n",
              "            '<a target=\"_blank\" href=https://colab.research.google.com/notebooks/data_table.ipynb>data table notebook</a>'\n",
              "            + ' to learn more about interactive tables.';\n",
              "          element.innerHTML = '';\n",
              "          dataTable['output_type'] = 'display_data';\n",
              "          await google.colab.output.renderOutput(dataTable, element);\n",
              "          const docLink = document.createElement('div');\n",
              "          docLink.innerHTML = docLinkHtml;\n",
              "          element.appendChild(docLink);\n",
              "        }\n",
              "      </script>\n",
              "    </div>\n",
              "  </div>\n"
            ]
          },
          "metadata": {},
          "execution_count": 31
        }
      ]
    },
    {
      "cell_type": "markdown",
      "source": [
        "###Using seaborn to plot a barplot between Maker vs Quantity and Maker vs Amount"
      ],
      "metadata": {
        "id": "kKTR46QRDGsm"
      }
    },
    {
      "cell_type": "code",
      "source": [
        "sns.barplot(x='Maker',y='Qty',data=makerplot.reset_index(), palette='Blues')\n",
        "plt.xlabel('Maker')\n",
        "plt.ylabel('Total Qty')\n",
        "plt.title('Top Makers by Total Qty')\n",
        "plt.xticks(rotation=45)\n",
        "plt.show()"
      ],
      "metadata": {
        "colab": {
          "base_uri": "https://localhost:8080/",
          "height": 506
        },
        "id": "6_FBmx6qbSzn",
        "outputId": "d10cbcd1-1a93-40e3-d4f0-b222a717d371"
      },
      "execution_count": null,
      "outputs": [
        {
          "output_type": "display_data",
          "data": {
            "text/plain": [
              "<Figure size 640x480 with 1 Axes>"
            ],
            "image/png": "[encoded data removed]"
          },
          "metadata": {}
        }
      ]
    },
    {
      "cell_type": "code",
      "source": [
        "sns.barplot(x='Maker',y='Amount',data=makerplot.reset_index(),palette='Blues')\n",
        "plt.xlabel('Maker')\n",
        "plt.ylabel('Total Amount')\n",
        "plt.title('Top Makers by Total Amount')\n",
        "plt.xticks(rotation=45)\n",
        "plt.show()"
      ],
      "metadata": {
        "colab": {
          "base_uri": "https://localhost:8080/",
          "height": 506
        },
        "id": "BN3krkF8S_Uq",
        "outputId": "e3eab2e8-990c-4931-8e5c-dad71be1a01e"
      },
      "execution_count": null,
      "outputs": [
        {
          "output_type": "display_data",
          "data": {
            "text/plain": [
              "<Figure size 640x480 with 1 Axes>"
            ],
            "image/png": "[encoded data removed]"
          },
          "metadata": {}
        }
      ]
    },
    {
      "cell_type": "markdown",
      "source": [
        "**We could see that Aquila corresponds to most of the purchases Quantity wise as well as Amount wise**"
      ],
      "metadata": {
        "id": "YAWVhR9ly2ns"
      }
    },
    {
      "cell_type": "markdown",
      "source": [
        "##Date wise plots"
      ],
      "metadata": {
        "id": "xe5jzBmXRmqX"
      }
    },
    {
      "cell_type": "markdown",
      "source": [
        "The type of Date column is str"
      ],
      "metadata": {
        "id": "T_BpdBL0P8YR"
      }
    },
    {
      "cell_type": "code",
      "source": [
        "type(df['Date'].iloc[0])"
      ],
      "metadata": {
        "colab": {
          "base_uri": "https://localhost:8080/"
        },
        "id": "e-b8Os8SzAV0",
        "outputId": "2f1b3689-de7a-4856-b3e9-d015123630eb"
      },
      "execution_count": null,
      "outputs": [
        {
          "output_type": "execute_result",
          "data": {
            "text/plain": [
              "str"
            ]
          },
          "metadata": {},
          "execution_count": 39
        }
      ]
    },
    {
      "cell_type": "markdown",
      "source": [
        "Changing its type to datetime"
      ],
      "metadata": {
        "id": "cOnnDos7Qcxp"
      }
    },
    {
      "cell_type": "code",
      "source": [
        "df['Date'] = pd.to_datetime(df['Date'])"
      ],
      "metadata": {
        "id": "dnntkMij00Xq"
      },
      "execution_count": null,
      "outputs": []
    },
    {
      "cell_type": "code",
      "source": [
        "time = df['Date'].iloc[0]\n",
        "time.month"
      ],
      "metadata": {
        "colab": {
          "base_uri": "https://localhost:8080/"
        },
        "id": "pQLKlhC00_Nr",
        "outputId": "820d26d3-4741-4369-cce4-8fbf0dcd0a55"
      },
      "execution_count": null,
      "outputs": [
        {
          "output_type": "execute_result",
          "data": {
            "text/plain": [
              "8"
            ]
          },
          "metadata": {},
          "execution_count": 41
        }
      ]
    },
    {
      "cell_type": "markdown",
      "source": [
        "Splitting Months and Years into separate columns"
      ],
      "metadata": {
        "id": "gbeAa5z7Qkgs"
      }
    },
    {
      "cell_type": "code",
      "source": [
        "df['Month'] = df['Date'].apply(lambda time: time.month)\n",
        "df['Year'] = df['Date'].apply(lambda time: time.year)"
      ],
      "metadata": {
        "id": "k9tag86I1VL-"
      },
      "execution_count": null,
      "outputs": []
    },
    {
      "cell_type": "code",
      "source": [],
      "metadata": {
        "id": "DoxXoOn-N0Oi"
      },
      "execution_count": null,
      "outputs": []
    },
    {
      "cell_type": "code",
      "source": [
        "df.head()"
      ],
      "metadata": {
        "colab": {
          "base_uri": "https://localhost:8080/",
          "height": 206
        },
        "id": "SQBgFw7sOvct",
        "outputId": "02505ffa-ad86-49c2-9c3c-3ae3e95c6b34"
      },
      "execution_count": null,
      "outputs": [
        {
          "output_type": "execute_result",
          "data": {
            "text/plain": [
              "         Item Description Bill No.       Date       Packing  Batch No.    Qty  \\\n",
              "0  ACAROT CAPS. (10X1X10)   AP1469 2021-08-20  10X1X10C Box     AK6805   10.0   \n",
              "1  ACAROT CAPS. (10X1X10)   AP2122 2021-10-19  10X1X10C Box     AK7925   10.0   \n",
              "2       ACAROT SYP 200 ML   AP1469 2021-08-20     1X200 BOT      GA490  360.0   \n",
              "3       ACAROT SYP 200 ML   AP3523 2022-03-14     1X200 BOT      GA847  180.0   \n",
              "4         ACEFO DRY SYRUP   AP0425 2021-05-10       1X30 ML  GDB200110  300.0   \n",
              "\n",
              "    Rate   Amount Maker  Month    Year  \n",
              "0  115.0   1150.0  ACME    8.0  2021.0  \n",
              "1  115.0   1150.0  ACME   10.0  2021.0  \n",
              "2   28.0  10080.0  ACME    8.0  2021.0  \n",
              "3   28.0   5040.0  ACME    3.0  2022.0  \n",
              "4   21.6   6480.0  ACME    5.0  2021.0  "
            ],
            "text/html": [
              "\n",
              "\n",
              "  <div id=\"df-195e7577-ee00-402c-8fe3-20d54e15a27f\">\n",
              "    <div class=\"colab-df-container\">\n",
              "      <div>\n",
              "<style scoped>\n",
              "    .dataframe tbody tr th:only-of-type {\n",
              "        vertical-align: middle;\n",
              "    }\n",
              "\n",
              "    .dataframe tbody tr th {\n",
              "        vertical-align: top;\n",
              "    }\n",
              "\n",
              "    .dataframe thead th {\n",
              "        text-align: right;\n",
              "    }\n",
              "</style>\n",
              "<table border=\"1\" class=\"dataframe\">\n",
              "  <thead>\n",
              "    <tr style=\"text-align: right;\">\n",
              "      <th></th>\n",
              "      <th>Item Description</th>\n",
              "      <th>Bill No.</th>\n",
              "      <th>Date</th>\n",
              "      <th>Packing</th>\n",
              "      <th>Batch No.</th>\n",
              "      <th>Qty</th>\n",
              "      <th>Rate</th>\n",
              "      <th>Amount</th>\n",
              "      <th>Maker</th>\n",
              "      <th>Month</th>\n",
              "      <th>Year</th>\n",
              "    </tr>\n",
              "  </thead>\n",
              "  <tbody>\n",
              "    <tr>\n",
              "      <th>0</th>\n",
              "      <td>ACAROT CAPS. (10X1X10)</td>\n",
              "      <td>AP1469</td>\n",
              "      <td>2021-08-20</td>\n",
              "      <td>10X1X10C Box</td>\n",
              "      <td>AK6805</td>\n",
              "      <td>10.0</td>\n",
              "      <td>115.0</td>\n",
              "      <td>1150.0</td>\n",
              "      <td>ACME</td>\n",
              "      <td>8.0</td>\n",
              "      <td>2021.0</td>\n",
              "    </tr>\n",
              "    <tr>\n",
              "      <th>1</th>\n",
              "      <td>ACAROT CAPS. (10X1X10)</td>\n",
              "      <td>AP2122</td>\n",
              "      <td>2021-10-19</td>\n",
              "      <td>10X1X10C Box</td>\n",
              "      <td>AK7925</td>\n",
              "      <td>10.0</td>\n",
              "      <td>115.0</td>\n",
              "      <td>1150.0</td>\n",
              "      <td>ACME</td>\n",
              "      <td>10.0</td>\n",
              "      <td>2021.0</td>\n",
              "    </tr>\n",
              "    <tr>\n",
              "      <th>2</th>\n",
              "      <td>ACAROT SYP 200 ML</td>\n",
              "      <td>AP1469</td>\n",
              "      <td>2021-08-20</td>\n",
              "      <td>1X200 BOT</td>\n",
              "      <td>GA490</td>\n",
              "      <td>360.0</td>\n",
              "      <td>28.0</td>\n",
              "      <td>10080.0</td>\n",
              "      <td>ACME</td>\n",
              "      <td>8.0</td>\n",
              "      <td>2021.0</td>\n",
              "    </tr>\n",
              "    <tr>\n",
              "      <th>3</th>\n",
              "      <td>ACAROT SYP 200 ML</td>\n",
              "      <td>AP3523</td>\n",
              "      <td>2022-03-14</td>\n",
              "      <td>1X200 BOT</td>\n",
              "      <td>GA847</td>\n",
              "      <td>180.0</td>\n",
              "      <td>28.0</td>\n",
              "      <td>5040.0</td>\n",
              "      <td>ACME</td>\n",
              "      <td>3.0</td>\n",
              "      <td>2022.0</td>\n",
              "    </tr>\n",
              "    <tr>\n",
              "      <th>4</th>\n",
              "      <td>ACEFO DRY SYRUP</td>\n",
              "      <td>AP0425</td>\n",
              "      <td>2021-05-10</td>\n",
              "      <td>1X30 ML</td>\n",
              "      <td>GDB200110</td>\n",
              "      <td>300.0</td>\n",
              "      <td>21.6</td>\n",
              "      <td>6480.0</td>\n",
              "      <td>ACME</td>\n",
              "      <td>5.0</td>\n",
              "      <td>2021.0</td>\n",
              "    </tr>\n",
              "  </tbody>\n",
              "</table>\n",
              "</div>\n",
              "      <button class=\"colab-df-convert\" onclick=\"convertToInteractive('df-195e7577-ee00-402c-8fe3-20d54e15a27f')\"\n",
              "              title=\"Convert this dataframe to an interactive table.\"\n",
              "              style=\"display:none;\">\n",
              "\n",
              "  <svg xmlns=\"http://www.w3.org/2000/svg\" height=\"24px\"viewBox=\"0 0 24 24\"\n",
              "       width=\"24px\">\n",
              "    <path d=\"M0 0h24v24H0V0z\" fill=\"none\"/>\n",
              "    <path d=\"M18.56 5.44l.94 2.06.94-2.06 2.06-.94-2.06-.94-.94-2.06-.94 2.06-2.06.94zm-11 1L8.5 8.5l.94-2.06 2.06-.94-2.06-.94L8.5 2.5l-.94 2.06-2.06.94zm10 10l.94 2.06.94-2.06 2.06-.94-2.06-.94-.94-2.06-.94 2.06-2.06.94z\"/><path d=\"M17.41 7.96l-1.37-1.37c-.4-.4-.92-.59-1.43-.59-.52 0-1.04.2-1.43.59L10.3 9.45l-7.72 7.72c-.78.78-.78 2.05 0 2.83L4 21.41c.39.39.9.59 1.41.59.51 0 1.02-.2 1.41-.59l7.78-7.78 2.81-2.81c.8-.78.8-2.07 0-2.86zM5.41 20L4 18.59l7.72-7.72 1.47 1.35L5.41 20z\"/>\n",
              "  </svg>\n",
              "      </button>\n",
              "\n",
              "\n",
              "\n",
              "    <div id=\"df-84253043-5dd8-4697-b38b-aa407ba41f73\">\n",
              "      <button class=\"colab-df-quickchart\" onclick=\"quickchart('df-84253043-5dd8-4697-b38b-aa407ba41f73')\"\n",
              "              title=\"Suggest charts.\"\n",
              "              style=\"display:none;\">\n",
              "\n",
              "<svg xmlns=\"http://www.w3.org/2000/svg\" height=\"24px\"viewBox=\"0 0 24 24\"\n",
              "     width=\"24px\">\n",
              "    <g>\n",
              "        <path d=\"M19 3H5c-1.1 0-2 .9-2 2v14c0 1.1.9 2 2 2h14c1.1 0 2-.9 2-2V5c0-1.1-.9-2-2-2zM9 17H7v-7h2v7zm4 0h-2V7h2v10zm4 0h-2v-4h2v4z\"/>\n",
              "    </g>\n",
              "</svg>\n",
              "      </button>\n",
              "    </div>\n",
              "\n",
              "<style>\n",
              "  .colab-df-quickchart {\n",
              "    background-color: #E8F0FE;\n",
              "    border: none;\n",
              "    border-radius: 50%;\n",
              "    cursor: pointer;\n",
              "    display: none;\n",
              "    fill: #1967D2;\n",
              "    height: 32px;\n",
              "    padding: 0 0 0 0;\n",
              "    width: 32px;\n",
              "  }\n",
              "\n",
              "  .colab-df-quickchart:hover {\n",
              "    background-color: #E2EBFA;\n",
              "    box-shadow: 0px 1px 2px rgba(60, 64, 67, 0.3), 0px 1px 3px 1px rgba(60, 64, 67, 0.15);\n",
              "    fill: #174EA6;\n",
              "  }\n",
              "\n",
              "  [theme=dark] .colab-df-quickchart {\n",
              "    background-color: #3B4455;\n",
              "    fill: #D2E3FC;\n",
              "  }\n",
              "\n",
              "  [theme=dark] .colab-df-quickchart:hover {\n",
              "    background-color: #434B5C;\n",
              "    box-shadow: 0px 1px 3px 1px rgba(0, 0, 0, 0.15);\n",
              "    filter: drop-shadow(0px 1px 2px rgba(0, 0, 0, 0.3));\n",
              "    fill: #FFFFFF;\n",
              "  }\n",
              "</style>\n",
              "\n",
              "    <script>\n",
              "      async function quickchart(key) {\n",
              "        const containerElement = document.querySelector('#' + key);\n",
              "        const charts = await google.colab.kernel.invokeFunction(\n",
              "            'suggestCharts', [key], {});\n",
              "      }\n",
              "    </script>\n",
              "\n",
              "      <script>\n",
              "\n",
              "function displayQuickchartButton(domScope) {\n",
              "  let quickchartButtonEl =\n",
              "    domScope.querySelector('#df-84253043-5dd8-4697-b38b-aa407ba41f73 button.colab-df-quickchart');\n",
              "  quickchartButtonEl.style.display =\n",
              "    google.colab.kernel.accessAllowed ? 'block' : 'none';\n",
              "}\n",
              "\n",
              "        displayQuickchartButton(document);\n",
              "      </script>\n",
              "      <style>\n",
              "    .colab-df-container {\n",
              "      display:flex;\n",
              "      flex-wrap:wrap;\n",
              "      gap: 12px;\n",
              "    }\n",
              "\n",
              "    .colab-df-convert {\n",
              "      background-color: #E8F0FE;\n",
              "      border: none;\n",
              "      border-radius: 50%;\n",
              "      cursor: pointer;\n",
              "      display: none;\n",
              "      fill: #1967D2;\n",
              "      height: 32px;\n",
              "      padding: 0 0 0 0;\n",
              "      width: 32px;\n",
              "    }\n",
              "\n",
              "    .colab-df-convert:hover {\n",
              "      background-color: #E2EBFA;\n",
              "      box-shadow: 0px 1px 2px rgba(60, 64, 67, 0.3), 0px 1px 3px 1px rgba(60, 64, 67, 0.15);\n",
              "      fill: #174EA6;\n",
              "    }\n",
              "\n",
              "    [theme=dark] .colab-df-convert {\n",
              "      background-color: #3B4455;\n",
              "      fill: #D2E3FC;\n",
              "    }\n",
              "\n",
              "    [theme=dark] .colab-df-convert:hover {\n",
              "      background-color: #434B5C;\n",
              "      box-shadow: 0px 1px 3px 1px rgba(0, 0, 0, 0.15);\n",
              "      filter: drop-shadow(0px 1px 2px rgba(0, 0, 0, 0.3));\n",
              "      fill: #FFFFFF;\n",
              "    }\n",
              "  </style>\n",
              "\n",
              "      <script>\n",
              "        const buttonEl =\n",
              "          document.querySelector('#df-195e7577-ee00-402c-8fe3-20d54e15a27f button.colab-df-convert');\n",
              "        buttonEl.style.display =\n",
              "          google.colab.kernel.accessAllowed ? 'block' : 'none';\n",
              "\n",
              "        async function convertToInteractive(key) {\n",
              "          const element = document.querySelector('#df-195e7577-ee00-402c-8fe3-20d54e15a27f');\n",
              "          const dataTable =\n",
              "            await google.colab.kernel.invokeFunction('convertToInteractive',\n",
              "                                                     [key], {});\n",
              "          if (!dataTable) return;\n",
              "\n",
              "          const docLinkHtml = 'Like what you see? Visit the ' +\n",
              "            '<a target=\"_blank\" href=https://colab.research.google.com/notebooks/data_table.ipynb>data table notebook</a>'\n",
              "            + ' to learn more about interactive tables.';\n",
              "          element.innerHTML = '';\n",
              "          dataTable['output_type'] = 'display_data';\n",
              "          await google.colab.output.renderOutput(dataTable, element);\n",
              "          const docLink = document.createElement('div');\n",
              "          docLink.innerHTML = docLinkHtml;\n",
              "          element.appendChild(docLink);\n",
              "        }\n",
              "      </script>\n",
              "    </div>\n",
              "  </div>\n"
            ]
          },
          "metadata": {},
          "execution_count": 43
        }
      ]
    },
    {
      "cell_type": "markdown",
      "source": [
        "###Plotting Month wise Purchase"
      ],
      "metadata": {
        "id": "Tfv_t4BpQ1es"
      }
    },
    {
      "cell_type": "code",
      "source": [
        " monthly = df.groupby('Month').sum().sort_values('Amount' , ascending = False)\n",
        " monthly.head(10)\n",
        " sns.barplot(x='Month',y ='Amount' ,data=monthly.reset_index() ,palette='Blues')"
      ],
      "metadata": {
        "colab": {
          "base_uri": "https://localhost:8080/",
          "height": 521
        },
        "id": "0y24WBJ72jjC",
        "outputId": "6f4cc01e-be23-46bb-a1cb-3775e504742b"
      },
      "execution_count": null,
      "outputs": [
        {
          "output_type": "stream",
          "name": "stderr",
          "text": [
            "<ipython-input-44-f7a582b55783>:1: FutureWarning: The default value of numeric_only in DataFrameGroupBy.sum is deprecated. In a future version, numeric_only will default to False. Either specify numeric_only or select only columns which should be valid for the function.\n",
            "  monthly = df.groupby('Month').sum().sort_values('Amount' , ascending = False)\n"
          ]
        },
        {
          "output_type": "execute_result",
          "data": {
            "text/plain": [
              "<Axes: xlabel='Month', ylabel='Amount'>"
            ]
          },
          "metadata": {},
          "execution_count": 44
        },
        {
          "output_type": "display_data",
          "data": {
            "text/plain": [
              "<Figure size 640x480 with 1 Axes>"
            ],
            "image/png": "[encoded data removed]"
          },
          "metadata": {}
        }
      ]
    },
    {
      "cell_type": "markdown",
      "source": [
        "This Dataframe gives a breakdown of monthly sale per year"
      ],
      "metadata": {
        "id": "XbKKKVD_byCx"
      }
    },
    {
      "cell_type": "code",
      "source": [
        "dayMonth = df.groupby(by=['Month','Year']).sum()['Amount'].unstack()\n",
        "dayMonth\n"
      ],
      "metadata": {
        "colab": {
          "base_uri": "https://localhost:8080/",
          "height": 511
        },
        "id": "cm1RzOaH37_Y",
        "outputId": "7c3254c3-2cda-4a04-d011-b65d525bab62"
      },
      "execution_count": null,
      "outputs": [
        {
          "output_type": "stream",
          "name": "stderr",
          "text": [
            "<ipython-input-32-e8c1b3d5f81b>:1: FutureWarning: The default value of numeric_only in DataFrameGroupBy.sum is deprecated. In a future version, numeric_only will default to False. Either specify numeric_only or select only columns which should be valid for the function.\n",
            "  dayMonth = df.groupby(by=['Month','Year']).sum()['Amount'].unstack()\n"
          ]
        },
        {
          "output_type": "execute_result",
          "data": {
            "text/plain": [
              "Year     2021.0    2022.0    2023.0\n",
              "Month                              \n",
              "1.0         NaN  189450.0    9430.4\n",
              "2.0         NaN   16575.0  224750.0\n",
              "3.0         NaN  204200.0  127930.0\n",
              "4.0    132860.0  159098.0       NaN\n",
              "5.0    227730.0   53480.4       NaN\n",
              "6.0     15125.6   86370.2       NaN\n",
              "7.0     39950.0   16250.0       NaN\n",
              "8.0     61414.0   92870.0       NaN\n",
              "9.0     95925.6  218300.0       NaN\n",
              "10.0   278084.0   62795.4       NaN\n",
              "11.0   158595.6  178120.0       NaN\n",
              "12.0   238180.0   84275.0       NaN"
            ],
            "text/html": [
              "\n",
              "\n",
              "  <div id=\"df-429bc2db-a0c6-4a2b-86d1-bde535db3c24\">\n",
              "    <div class=\"colab-df-container\">\n",
              "      <div>\n",
              "<style scoped>\n",
              "    .dataframe tbody tr th:only-of-type {\n",
              "        vertical-align: middle;\n",
              "    }\n",
              "\n",
              "    .dataframe tbody tr th {\n",
              "        vertical-align: top;\n",
              "    }\n",
              "\n",
              "    .dataframe thead th {\n",
              "        text-align: right;\n",
              "    }\n",
              "</style>\n",
              "<table border=\"1\" class=\"dataframe\">\n",
              "  <thead>\n",
              "    <tr style=\"text-align: right;\">\n",
              "      <th>Year</th>\n",
              "      <th>2021.0</th>\n",
              "      <th>2022.0</th>\n",
              "      <th>2023.0</th>\n",
              "    </tr>\n",
              "    <tr>\n",
              "      <th>Month</th>\n",
              "      <th></th>\n",
              "      <th></th>\n",
              "      <th></th>\n",
              "    </tr>\n",
              "  </thead>\n",
              "  <tbody>\n",
              "    <tr>\n",
              "      <th>1.0</th>\n",
              "      <td>NaN</td>\n",
              "      <td>189450.0</td>\n",
              "      <td>9430.4</td>\n",
              "    </tr>\n",
              "    <tr>\n",
              "      <th>2.0</th>\n",
              "      <td>NaN</td>\n",
              "      <td>16575.0</td>\n",
              "      <td>224750.0</td>\n",
              "    </tr>\n",
              "    <tr>\n",
              "      <th>3.0</th>\n",
              "      <td>NaN</td>\n",
              "      <td>204200.0</td>\n",
              "      <td>127930.0</td>\n",
              "    </tr>\n",
              "    <tr>\n",
              "      <th>4.0</th>\n",
              "      <td>132860.0</td>\n",
              "      <td>159098.0</td>\n",
              "      <td>NaN</td>\n",
              "    </tr>\n",
              "    <tr>\n",
              "      <th>5.0</th>\n",
              "      <td>227730.0</td>\n",
              "      <td>53480.4</td>\n",
              "      <td>NaN</td>\n",
              "    </tr>\n",
              "    <tr>\n",
              "      <th>6.0</th>\n",
              "      <td>15125.6</td>\n",
              "      <td>86370.2</td>\n",
              "      <td>NaN</td>\n",
              "    </tr>\n",
              "    <tr>\n",
              "      <th>7.0</th>\n",
              "      <td>39950.0</td>\n",
              "      <td>16250.0</td>\n",
              "      <td>NaN</td>\n",
              "    </tr>\n",
              "    <tr>\n",
              "      <th>8.0</th>\n",
              "      <td>61414.0</td>\n",
              "      <td>92870.0</td>\n",
              "      <td>NaN</td>\n",
              "    </tr>\n",
              "    <tr>\n",
              "      <th>9.0</th>\n",
              "      <td>95925.6</td>\n",
              "      <td>218300.0</td>\n",
              "      <td>NaN</td>\n",
              "    </tr>\n",
              "    <tr>\n",
              "      <th>10.0</th>\n",
              "      <td>278084.0</td>\n",
              "      <td>62795.4</td>\n",
              "      <td>NaN</td>\n",
              "    </tr>\n",
              "    <tr>\n",
              "      <th>11.0</th>\n",
              "      <td>158595.6</td>\n",
              "      <td>178120.0</td>\n",
              "      <td>NaN</td>\n",
              "    </tr>\n",
              "    <tr>\n",
              "      <th>12.0</th>\n",
              "      <td>238180.0</td>\n",
              "      <td>84275.0</td>\n",
              "      <td>NaN</td>\n",
              "    </tr>\n",
              "  </tbody>\n",
              "</table>\n",
              "</div>\n",
              "      <button class=\"colab-df-convert\" onclick=\"convertToInteractive('df-429bc2db-a0c6-4a2b-86d1-bde535db3c24')\"\n",
              "              title=\"Convert this dataframe to an interactive table.\"\n",
              "              style=\"display:none;\">\n",
              "\n",
              "  <svg xmlns=\"http://www.w3.org/2000/svg\" height=\"24px\"viewBox=\"0 0 24 24\"\n",
              "       width=\"24px\">\n",
              "    <path d=\"M0 0h24v24H0V0z\" fill=\"none\"/>\n",
              "    <path d=\"M18.56 5.44l.94 2.06.94-2.06 2.06-.94-2.06-.94-.94-2.06-.94 2.06-2.06.94zm-11 1L8.5 8.5l.94-2.06 2.06-.94-2.06-.94L8.5 2.5l-.94 2.06-2.06.94zm10 10l.94 2.06.94-2.06 2.06-.94-2.06-.94-.94-2.06-.94 2.06-2.06.94z\"/><path d=\"M17.41 7.96l-1.37-1.37c-.4-.4-.92-.59-1.43-.59-.52 0-1.04.2-1.43.59L10.3 9.45l-7.72 7.72c-.78.78-.78 2.05 0 2.83L4 21.41c.39.39.9.59 1.41.59.51 0 1.02-.2 1.41-.59l7.78-7.78 2.81-2.81c.8-.78.8-2.07 0-2.86zM5.41 20L4 18.59l7.72-7.72 1.47 1.35L5.41 20z\"/>\n",
              "  </svg>\n",
              "      </button>\n",
              "\n",
              "\n",
              "\n",
              "    <div id=\"df-e011ad77-aa66-4106-9c49-5ad8a9332a98\">\n",
              "      <button class=\"colab-df-quickchart\" onclick=\"quickchart('df-e011ad77-aa66-4106-9c49-5ad8a9332a98')\"\n",
              "              title=\"Suggest charts.\"\n",
              "              style=\"display:none;\">\n",
              "\n",
              "<svg xmlns=\"http://www.w3.org/2000/svg\" height=\"24px\"viewBox=\"0 0 24 24\"\n",
              "     width=\"24px\">\n",
              "    <g>\n",
              "        <path d=\"M19 3H5c-1.1 0-2 .9-2 2v14c0 1.1.9 2 2 2h14c1.1 0 2-.9 2-2V5c0-1.1-.9-2-2-2zM9 17H7v-7h2v7zm4 0h-2V7h2v10zm4 0h-2v-4h2v4z\"/>\n",
              "    </g>\n",
              "</svg>\n",
              "      </button>\n",
              "    </div>\n",
              "\n",
              "<style>\n",
              "  .colab-df-quickchart {\n",
              "    background-color: #E8F0FE;\n",
              "    border: none;\n",
              "    border-radius: 50%;\n",
              "    cursor: pointer;\n",
              "    display: none;\n",
              "    fill: #1967D2;\n",
              "    height: 32px;\n",
              "    padding: 0 0 0 0;\n",
              "    width: 32px;\n",
              "  }\n",
              "\n",
              "  .colab-df-quickchart:hover {\n",
              "    background-color: #E2EBFA;\n",
              "    box-shadow: 0px 1px 2px rgba(60, 64, 67, 0.3), 0px 1px 3px 1px rgba(60, 64, 67, 0.15);\n",
              "    fill: #174EA6;\n",
              "  }\n",
              "\n",
              "  [theme=dark] .colab-df-quickchart {\n",
              "    background-color: #3B4455;\n",
              "    fill: #D2E3FC;\n",
              "  }\n",
              "\n",
              "  [theme=dark] .colab-df-quickchart:hover {\n",
              "    background-color: #434B5C;\n",
              "    box-shadow: 0px 1px 3px 1px rgba(0, 0, 0, 0.15);\n",
              "    filter: drop-shadow(0px 1px 2px rgba(0, 0, 0, 0.3));\n",
              "    fill: #FFFFFF;\n",
              "  }\n",
              "</style>\n",
              "\n",
              "    <script>\n",
              "      async function quickchart(key) {\n",
              "        const containerElement = document.querySelector('#' + key);\n",
              "        const charts = await google.colab.kernel.invokeFunction(\n",
              "            'suggestCharts', [key], {});\n",
              "      }\n",
              "    </script>\n",
              "\n",
              "      <script>\n",
              "\n",
              "function displayQuickchartButton(domScope) {\n",
              "  let quickchartButtonEl =\n",
              "    domScope.querySelector('#df-e011ad77-aa66-4106-9c49-5ad8a9332a98 button.colab-df-quickchart');\n",
              "  quickchartButtonEl.style.display =\n",
              "    google.colab.kernel.accessAllowed ? 'block' : 'none';\n",
              "}\n",
              "\n",
              "        displayQuickchartButton(document);\n",
              "      </script>\n",
              "      <style>\n",
              "    .colab-df-container {\n",
              "      display:flex;\n",
              "      flex-wrap:wrap;\n",
              "      gap: 12px;\n",
              "    }\n",
              "\n",
              "    .colab-df-convert {\n",
              "      background-color: #E8F0FE;\n",
              "      border: none;\n",
              "      border-radius: 50%;\n",
              "      cursor: pointer;\n",
              "      display: none;\n",
              "      fill: #1967D2;\n",
              "      height: 32px;\n",
              "      padding: 0 0 0 0;\n",
              "      width: 32px;\n",
              "    }\n",
              "\n",
              "    .colab-df-convert:hover {\n",
              "      background-color: #E2EBFA;\n",
              "      box-shadow: 0px 1px 2px rgba(60, 64, 67, 0.3), 0px 1px 3px 1px rgba(60, 64, 67, 0.15);\n",
              "      fill: #174EA6;\n",
              "    }\n",
              "\n",
              "    [theme=dark] .colab-df-convert {\n",
              "      background-color: #3B4455;\n",
              "      fill: #D2E3FC;\n",
              "    }\n",
              "\n",
              "    [theme=dark] .colab-df-convert:hover {\n",
              "      background-color: #434B5C;\n",
              "      box-shadow: 0px 1px 3px 1px rgba(0, 0, 0, 0.15);\n",
              "      filter: drop-shadow(0px 1px 2px rgba(0, 0, 0, 0.3));\n",
              "      fill: #FFFFFF;\n",
              "    }\n",
              "  </style>\n",
              "\n",
              "      <script>\n",
              "        const buttonEl =\n",
              "          document.querySelector('#df-429bc2db-a0c6-4a2b-86d1-bde535db3c24 button.colab-df-convert');\n",
              "        buttonEl.style.display =\n",
              "          google.colab.kernel.accessAllowed ? 'block' : 'none';\n",
              "\n",
              "        async function convertToInteractive(key) {\n",
              "          const element = document.querySelector('#df-429bc2db-a0c6-4a2b-86d1-bde535db3c24');\n",
              "          const dataTable =\n",
              "            await google.colab.kernel.invokeFunction('convertToInteractive',\n",
              "                                                     [key], {});\n",
              "          if (!dataTable) return;\n",
              "\n",
              "          const docLinkHtml = 'Like what you see? Visit the ' +\n",
              "            '<a target=\"_blank\" href=https://colab.research.google.com/notebooks/data_table.ipynb>data table notebook</a>'\n",
              "            + ' to learn more about interactive tables.';\n",
              "          element.innerHTML = '';\n",
              "          dataTable['output_type'] = 'display_data';\n",
              "          await google.colab.output.renderOutput(dataTable, element);\n",
              "          const docLink = document.createElement('div');\n",
              "          docLink.innerHTML = docLinkHtml;\n",
              "          element.appendChild(docLink);\n",
              "        }\n",
              "      </script>\n",
              "    </div>\n",
              "  </div>\n"
            ]
          },
          "metadata": {},
          "execution_count": 32
        }
      ]
    },
    {
      "cell_type": "markdown",
      "source": [
        "**We could see that June, july is usually off season and October, November are the best season.**"
      ],
      "metadata": {
        "id": "bnRW12BiRDS0"
      }
    },
    {
      "cell_type": "code",
      "source": [
        "# Group the data by 'Maker' and 'Month' and calculate the monthly sales\n",
        "monthly_sales_by_maker = df.groupby(['Maker', 'Month'])['Amount'].sum().reset_index()\n",
        "\n",
        "# Plot the monthly sales trend for each maker\n",
        "sns.lineplot(x='Month', y='Amount', hue='Maker', data=monthly_sales_by_maker, estimator='sum')\n",
        "plt.xlabel('Month')\n",
        "plt.ylabel('Total Sales Amount')\n",
        "plt.title('Monthly Sales Trend for Each Maker')\n",
        "plt.legend(title='Maker', loc='upper left', bbox_to_anchor=(1, 1))\n",
        "plt.show()"
      ],
      "metadata": {
        "colab": {
          "base_uri": "https://localhost:8080/",
          "height": 472
        },
        "id": "52IQ6W2ytdZo",
        "outputId": "f50d2742-9a76-4714-de04-235be5191281"
      },
      "execution_count": null,
      "outputs": [
        {
          "output_type": "display_data",
          "data": {
            "text/plain": [
              "<Figure size 640x480 with 1 Axes>"
            ],
            "image/png": "[encoded data removed]"
          },
          "metadata": {}
        }
      ]
    },
    {
      "cell_type": "markdown",
      "source": [
        "#Thank you!"
      ],
      "metadata": {
        "id": "-xtUxeFZKboy"
      }
    },
    {
      "cell_type": "code",
      "source": [
        "product_sales_by_maker = df.groupby(['Maker', 'Item Description'])['Amount'].sum().reset_index()\n",
        "\n",
        "# Sort the data within each 'Maker' group in descending order of sales amount\n",
        "product_sales_by_maker = product_sales_by_maker.sort_values(by=['Maker', 'Amount'], ascending=[True, False])\n",
        "\n",
        "# Create a dictionary to store the top 5 products for each maker\n",
        "top_5_products_by_maker = {}\n",
        "\n",
        "# Loop through each maker and select the top 5 products\n",
        "for maker in product_sales_by_maker['Maker'].unique():\n",
        "    top_products = product_sales_by_maker[product_sales_by_maker['Maker'] == maker].head(5)\n",
        "    top_5_products_by_maker[maker] = top_products\n",
        "\n",
        "# Display the top 5 products for each maker\n",
        "for maker, top_products in top_5_products_by_maker.items():\n",
        "    print(f\"Top 5 products for {maker}:\")\n",
        "    print(top_products[['Item Description', 'Amount']])\n",
        "    print(\"\\n\")\n",
        "\n",
        "\n",
        "\n",
        "\n",
        "\n"
      ],
      "metadata": {
        "colab": {
          "base_uri": "https://localhost:8080/"
        },
        "id": "uxUFu-DMvC6A",
        "outputId": "ce42644e-fb7b-4a59-84ab-2b83d0212c20"
      },
      "execution_count": null,
      "outputs": [
        {
          "output_type": "stream",
          "name": "stdout",
          "text": [
            "Top 5 products for ACME:\n",
            "       Item Description   Amount\n",
            "15  AQRAB-D CAPSULE (L)  68448.0\n",
            "2     ACAROT SYP 200 ML  65520.0\n",
            "20        CALBIN K2 TAB  46250.0\n",
            "23     COUGHEX-LT SYRUP  40200.0\n",
            "3       ACEFO DRY SYRUP  38880.0\n",
            "\n",
            "\n",
            "Top 5 products for Aquila:\n",
            "                Item Description    Amount\n",
            "49               AQRAB-D CAPSULE  269790.0\n",
            "62           FIXVIL-AZ-LB TABLET  244200.0\n",
            "63            FIXVIL-O-LB TABLET  176300.0\n",
            "67           MCOLA PLUS CAPSULES  168500.0\n",
            "76  TYNIMOX CV 625 TABLET (10X6)  157320.0\n",
            "\n",
            "\n",
            "Top 5 products for Genesis:\n",
            "         Item Description   Amount\n",
            "79     AGESTRON - 500 INJ  66150.0\n",
            "81     CALCIATE-K2 TABLET  17500.0\n",
            "80  CALCIATE PLUS CAPSULE  13500.0\n",
            "82     NERVIMIN-DHA CAPS.  10850.0\n",
            "78    ACMESIS PLUS TABLET  10000.0\n",
            "\n",
            "\n",
            "Top 5 products for SAPPL:\n",
            "   Item Description   Amount\n",
            "83      TRAMPOL TAB  43500.0\n",
            "\n",
            "\n"
          ]
        }
      ]
    }
  ]
}